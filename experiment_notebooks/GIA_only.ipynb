{
  "cells": [
    {
      "cell_type": "code",
      "execution_count": null,
      "metadata": {
        "colab": {
          "base_uri": "https://localhost:8080/"
        },
        "id": "lcEVRYV_OFNn",
        "outputId": "6e52cf5e-ddf4-4cc5-db6a-13ee31e770b4"
      },
      "outputs": [
        {
          "output_type": "stream",
          "name": "stdout",
          "text": [
            "Cloning into 'FLinferenceDefence'...\n",
            "remote: Enumerating objects: 628, done.\u001b[K\n",
            "remote: Counting objects: 100% (564/564), done.\u001b[K\n",
            "remote: Compressing objects: 100% (245/245), done.\u001b[K\n",
            "remote: Total 628 (delta 416), reused 461 (delta 318), pack-reused 64\u001b[K\n",
            "Receiving objects: 100% (628/628), 65.74 MiB | 10.07 MiB/s, done.\n",
            "Resolving deltas: 100% (435/435), done.\n",
            "Updating files: 100% (364/364), done.\n"
          ]
        }
      ],
      "source": [
        "!git clone https://github.com/haider4445/FLinferenceDefence.git"
      ]
    },
    {
      "cell_type": "code",
      "source": [
        "from google.colab import drive\n",
        "drive.mount('/content/drive')"
      ],
      "metadata": {
        "colab": {
          "base_uri": "https://localhost:8080/"
        },
        "id": "sjWcdF834HLO",
        "outputId": "68ca2656-23db-4f77-86a2-f76820084487"
      },
      "execution_count": null,
      "outputs": [
        {
          "output_type": "stream",
          "name": "stdout",
          "text": [
            "Mounted at /content/drive\n"
          ]
        }
      ]
    },
    {
      "cell_type": "code",
      "execution_count": null,
      "metadata": {
        "colab": {
          "base_uri": "https://localhost:8080/"
        },
        "id": "71AeB6gUHpnh",
        "outputId": "2404630c-edc5-41ac-c6ee-7d3a54bb7a59"
      },
      "outputs": [
        {
          "output_type": "stream",
          "name": "stdout",
          "text": [
            "Collecting diffprivlib\n",
            "  Downloading diffprivlib-0.6.3-py3-none-any.whl (176 kB)\n",
            "\u001b[?25l     \u001b[90m━━━━━━━━━━━━━━━━━━━━━━━━━━━━━━━━━━━━━━━━\u001b[0m \u001b[32m0.0/176.0 kB\u001b[0m \u001b[31m?\u001b[0m eta \u001b[36m-:--:--\u001b[0m\r\u001b[2K     \u001b[91m━━━━━━━━━━━━━━━━━━━━\u001b[0m\u001b[91m╸\u001b[0m\u001b[90m━━━━━━━━━━━━━━━━━━━\u001b[0m \u001b[32m92.2/176.0 kB\u001b[0m \u001b[31m2.6 MB/s\u001b[0m eta \u001b[36m0:00:01\u001b[0m\r\u001b[2K     \u001b[90m━━━━━━━━━━━━━━━━━━━━━━━━━━━━━━━━━━━━━━━━\u001b[0m \u001b[32m176.0/176.0 kB\u001b[0m \u001b[31m3.3 MB/s\u001b[0m eta \u001b[36m0:00:00\u001b[0m\n",
            "\u001b[?25hRequirement already satisfied: numpy>=1.21.6 in /usr/local/lib/python3.10/dist-packages (from diffprivlib) (1.23.5)\n",
            "Requirement already satisfied: scikit-learn>=0.24.2 in /usr/local/lib/python3.10/dist-packages (from diffprivlib) (1.2.2)\n",
            "Requirement already satisfied: scipy>=1.7.3 in /usr/local/lib/python3.10/dist-packages (from diffprivlib) (1.11.3)\n",
            "Requirement already satisfied: joblib>=0.16.0 in /usr/local/lib/python3.10/dist-packages (from diffprivlib) (1.3.2)\n",
            "Requirement already satisfied: setuptools>=49.0.0 in /usr/local/lib/python3.10/dist-packages (from diffprivlib) (67.7.2)\n",
            "Requirement already satisfied: threadpoolctl>=2.0.0 in /usr/local/lib/python3.10/dist-packages (from scikit-learn>=0.24.2->diffprivlib) (3.2.0)\n",
            "Installing collected packages: diffprivlib\n",
            "Successfully installed diffprivlib-0.6.3\n"
          ]
        }
      ],
      "source": [
        "\n",
        "!pip install diffprivlib"
      ]
    },
    {
      "cell_type": "code",
      "source": [
        "!pip install tenseal"
      ],
      "metadata": {
        "colab": {
          "base_uri": "https://localhost:8080/"
        },
        "id": "PzcOga29WMUq",
        "outputId": "24f8104f-ed3e-4e05-9bd1-7b36d88cb5c0"
      },
      "execution_count": null,
      "outputs": [
        {
          "output_type": "stream",
          "name": "stdout",
          "text": [
            "Collecting tenseal\n",
            "  Downloading tenseal-0.3.14-cp310-cp310-manylinux_2_17_x86_64.manylinux2014_x86_64.whl (4.9 MB)\n",
            "\u001b[2K     \u001b[90m━━━━━━━━━━━━━━━━━━━━━━━━━━━━━━━━━━━━━━━━\u001b[0m \u001b[32m4.9/4.9 MB\u001b[0m \u001b[31m29.7 MB/s\u001b[0m eta \u001b[36m0:00:00\u001b[0m\n",
            "\u001b[?25hInstalling collected packages: tenseal\n",
            "Successfully installed tenseal-0.3.14\n"
          ]
        }
      ]
    },
    {
      "cell_type": "code",
      "execution_count": null,
      "metadata": {
        "colab": {
          "base_uri": "https://localhost:8080/"
        },
        "id": "7f1CUVHQzF_b",
        "outputId": "a178beac-134e-4290-9f5b-3a95456fb7a3"
      },
      "outputs": [
        {
          "output_type": "stream",
          "name": "stdout",
          "text": [
            "/content/FLinferenceDefence/GIA\n"
          ]
        }
      ],
      "source": [
        "%cd FLinferenceDefence/GIA"
      ]
    },
    {
      "cell_type": "code",
      "source": [
        "import subprocess\n",
        "\n",
        "# List of terminal commands to run\n",
        "commands = []\n",
        "\n",
        "datasets = ['drive', 'news']\n",
        "perturbation_level = -4\n",
        "EnablePETERRanking = 'False'\n",
        "EnableDP = 'False'\n",
        "models = ['NN', 'RF']\n",
        "DPDelta = 1e-5\n",
        "DPEpsilon = 1\n",
        "DPSensitivity = 0.01\n",
        "\n",
        "dataset_dict = {\n",
        "    'drive':{\n",
        "        'log_file': 'drive.log',\n",
        "        'data_path': 'drive_cleaned.csv',\n",
        "        'target_features': [[12,36],[24,24],[36,12]],\n",
        "        'outputDim': 11\n",
        "    },\n",
        "  'news':{\n",
        "        'log_file': 'news.log',\n",
        "        'data_path': 'news_cleaned.csv',\n",
        "        'target_features': [[15,44],[30,29],[45,14]],\n",
        "        'outputDim': 5\n",
        "    }\n",
        "}\n",
        "\n",
        "for data in datasets:\n",
        "  for tf in dataset_dict[data]['target_features']:\n",
        "    for modelType in models:\n",
        "      command = f\"python main-gia.py --outputDim {dataset_dict[data]['outputDim']} --modelType {modelType} --DataFile {dataset_dict[data]['data_path']} --LogFile {dataset_dict[data]['log_file']}  --n_attacker {tf[0]} --n_victim {tf[1]} --runtimes 2 --perturbation_level {perturbation_level} --DPEpsilon {DPEpsilon} --DPDelta {DPDelta} --DPSensitivity {DPSensitivity}\"\n",
        "      result = subprocess.run(command, shell=True, stdout=subprocess.PIPE, stderr=subprocess.PIPE)\n",
        "\n",
        "      # Check if the command was successful\n",
        "      if result.returncode == 0:\n",
        "          print(f\"Command '{command}' executed successfully\")\n",
        "          print(\"Output:\")\n",
        "          print(result.stdout.decode())\n",
        "      else:\n",
        "          print(f\"Command '{command}' failed with error:\")\n",
        "          print(result.stderr.decode())\n",
        "\n",
        "\n"
      ],
      "metadata": {
        "id": "rx3XjEhSgWU1",
        "colab": {
          "base_uri": "https://localhost:8080/"
        },
        "outputId": "20eb01d4-37e8-4f1b-a227-2c73b0395538"
      },
      "execution_count": null,
      "outputs": [
        {
          "output_type": "stream",
          "name": "stdout",
          "text": [
            "Command 'python main-gia.py --outputDim 11 --modelType NN --DataFile drive_cleaned.csv --LogFile drive.log  --n_attacker 12 --n_victim 36 --runtimes 2 --perturbation_level -4 --DPEpsilon 1 --DPDelta 1e-05 --DPSensitivity 0.01' executed successfully\n",
            "Output:\n",
            "{'DataFile': 'drive_cleaned.csv', 'LogFile': 'drive.log', 'n_attacker': 12, 'n_victim': 36, 'runtimes': 2, 'trainpart': 0.6, 'testpart': 0.2, 'predictpart': 0.2, 'enableConfRound': False, 'EnablePREDVEL': False, 'EnableNoising': False, 'EnableDropout': False, 'EnableDP': False, 'EnableEncryption': False, 'EnablePREDVELRankingOnly': False, 'DPEpsilon': 1.0, 'DPDelta': 1e-05, 'DPSensitivity': 0.01, 'roundPrecision': 1, 'StdDevNoising': 0.1, 'epochsForAttack': 60, 'epochsForClassifier': 60, 'meanLambda': 1.2, 'enableAttackerFeatures': True, 'enableMean': False, 'unknownVarLambda': 0.25, 'perturbation_level': -4.0, 'outputDim': 11, 'modelType': 'NN', 'results_file_path': '/content/drive/My Drive/results_output_GIA_only.csv'}\n",
            "\n",
            "Command 'python main-gia.py --outputDim 11 --modelType RF --DataFile drive_cleaned.csv --LogFile drive.log  --n_attacker 12 --n_victim 36 --runtimes 2 --perturbation_level -4 --DPEpsilon 1 --DPDelta 1e-05 --DPSensitivity 0.01' executed successfully\n",
            "Output:\n",
            "{'DataFile': 'drive_cleaned.csv', 'LogFile': 'drive.log', 'n_attacker': 12, 'n_victim': 36, 'runtimes': 2, 'trainpart': 0.6, 'testpart': 0.2, 'predictpart': 0.2, 'enableConfRound': False, 'EnablePREDVEL': False, 'EnableNoising': False, 'EnableDropout': False, 'EnableDP': False, 'EnableEncryption': False, 'EnablePREDVELRankingOnly': False, 'DPEpsilon': 1.0, 'DPDelta': 1e-05, 'DPSensitivity': 0.01, 'roundPrecision': 1, 'StdDevNoising': 0.1, 'epochsForAttack': 60, 'epochsForClassifier': 60, 'meanLambda': 1.2, 'enableAttackerFeatures': True, 'enableMean': False, 'unknownVarLambda': 0.25, 'perturbation_level': -4.0, 'outputDim': 11, 'modelType': 'RF', 'results_file_path': '/content/drive/My Drive/results_output_GIA_only.csv'}\n",
            "\n",
            "Command 'python main-gia.py --outputDim 11 --modelType NN --DataFile drive_cleaned.csv --LogFile drive.log  --n_attacker 24 --n_victim 24 --runtimes 2 --perturbation_level -4 --DPEpsilon 1 --DPDelta 1e-05 --DPSensitivity 0.01' executed successfully\n",
            "Output:\n",
            "{'DataFile': 'drive_cleaned.csv', 'LogFile': 'drive.log', 'n_attacker': 24, 'n_victim': 24, 'runtimes': 2, 'trainpart': 0.6, 'testpart': 0.2, 'predictpart': 0.2, 'enableConfRound': False, 'EnablePREDVEL': False, 'EnableNoising': False, 'EnableDropout': False, 'EnableDP': False, 'EnableEncryption': False, 'EnablePREDVELRankingOnly': False, 'DPEpsilon': 1.0, 'DPDelta': 1e-05, 'DPSensitivity': 0.01, 'roundPrecision': 1, 'StdDevNoising': 0.1, 'epochsForAttack': 60, 'epochsForClassifier': 60, 'meanLambda': 1.2, 'enableAttackerFeatures': True, 'enableMean': False, 'unknownVarLambda': 0.25, 'perturbation_level': -4.0, 'outputDim': 11, 'modelType': 'NN', 'results_file_path': '/content/drive/My Drive/results_output_GIA_only.csv'}\n",
            "\n",
            "Command 'python main-gia.py --outputDim 11 --modelType RF --DataFile drive_cleaned.csv --LogFile drive.log  --n_attacker 24 --n_victim 24 --runtimes 2 --perturbation_level -4 --DPEpsilon 1 --DPDelta 1e-05 --DPSensitivity 0.01' executed successfully\n",
            "Output:\n",
            "{'DataFile': 'drive_cleaned.csv', 'LogFile': 'drive.log', 'n_attacker': 24, 'n_victim': 24, 'runtimes': 2, 'trainpart': 0.6, 'testpart': 0.2, 'predictpart': 0.2, 'enableConfRound': False, 'EnablePREDVEL': False, 'EnableNoising': False, 'EnableDropout': False, 'EnableDP': False, 'EnableEncryption': False, 'EnablePREDVELRankingOnly': False, 'DPEpsilon': 1.0, 'DPDelta': 1e-05, 'DPSensitivity': 0.01, 'roundPrecision': 1, 'StdDevNoising': 0.1, 'epochsForAttack': 60, 'epochsForClassifier': 60, 'meanLambda': 1.2, 'enableAttackerFeatures': True, 'enableMean': False, 'unknownVarLambda': 0.25, 'perturbation_level': -4.0, 'outputDim': 11, 'modelType': 'RF', 'results_file_path': '/content/drive/My Drive/results_output_GIA_only.csv'}\n",
            "\n",
            "Command 'python main-gia.py --outputDim 11 --modelType NN --DataFile drive_cleaned.csv --LogFile drive.log  --n_attacker 36 --n_victim 12 --runtimes 2 --perturbation_level -4 --DPEpsilon 1 --DPDelta 1e-05 --DPSensitivity 0.01' executed successfully\n",
            "Output:\n",
            "{'DataFile': 'drive_cleaned.csv', 'LogFile': 'drive.log', 'n_attacker': 36, 'n_victim': 12, 'runtimes': 2, 'trainpart': 0.6, 'testpart': 0.2, 'predictpart': 0.2, 'enableConfRound': False, 'EnablePREDVEL': False, 'EnableNoising': False, 'EnableDropout': False, 'EnableDP': False, 'EnableEncryption': False, 'EnablePREDVELRankingOnly': False, 'DPEpsilon': 1.0, 'DPDelta': 1e-05, 'DPSensitivity': 0.01, 'roundPrecision': 1, 'StdDevNoising': 0.1, 'epochsForAttack': 60, 'epochsForClassifier': 60, 'meanLambda': 1.2, 'enableAttackerFeatures': True, 'enableMean': False, 'unknownVarLambda': 0.25, 'perturbation_level': -4.0, 'outputDim': 11, 'modelType': 'NN', 'results_file_path': '/content/drive/My Drive/results_output_GIA_only.csv'}\n",
            "\n",
            "Command 'python main-gia.py --outputDim 11 --modelType RF --DataFile drive_cleaned.csv --LogFile drive.log  --n_attacker 36 --n_victim 12 --runtimes 2 --perturbation_level -4 --DPEpsilon 1 --DPDelta 1e-05 --DPSensitivity 0.01' executed successfully\n",
            "Output:\n",
            "{'DataFile': 'drive_cleaned.csv', 'LogFile': 'drive.log', 'n_attacker': 36, 'n_victim': 12, 'runtimes': 2, 'trainpart': 0.6, 'testpart': 0.2, 'predictpart': 0.2, 'enableConfRound': False, 'EnablePREDVEL': False, 'EnableNoising': False, 'EnableDropout': False, 'EnableDP': False, 'EnableEncryption': False, 'EnablePREDVELRankingOnly': False, 'DPEpsilon': 1.0, 'DPDelta': 1e-05, 'DPSensitivity': 0.01, 'roundPrecision': 1, 'StdDevNoising': 0.1, 'epochsForAttack': 60, 'epochsForClassifier': 60, 'meanLambda': 1.2, 'enableAttackerFeatures': True, 'enableMean': False, 'unknownVarLambda': 0.25, 'perturbation_level': -4.0, 'outputDim': 11, 'modelType': 'RF', 'results_file_path': '/content/drive/My Drive/results_output_GIA_only.csv'}\n",
            "\n",
            "Command 'python main-gia.py --outputDim 5 --modelType NN --DataFile news_cleaned.csv --LogFile news.log  --n_attacker 15 --n_victim 44 --runtimes 2 --perturbation_level -4 --DPEpsilon 1 --DPDelta 1e-05 --DPSensitivity 0.01' executed successfully\n",
            "Output:\n",
            "{'DataFile': 'news_cleaned.csv', 'LogFile': 'news.log', 'n_attacker': 15, 'n_victim': 44, 'runtimes': 2, 'trainpart': 0.6, 'testpart': 0.2, 'predictpart': 0.2, 'enableConfRound': False, 'EnablePREDVEL': False, 'EnableNoising': False, 'EnableDropout': False, 'EnableDP': False, 'EnableEncryption': False, 'EnablePREDVELRankingOnly': False, 'DPEpsilon': 1.0, 'DPDelta': 1e-05, 'DPSensitivity': 0.01, 'roundPrecision': 1, 'StdDevNoising': 0.1, 'epochsForAttack': 60, 'epochsForClassifier': 60, 'meanLambda': 1.2, 'enableAttackerFeatures': True, 'enableMean': False, 'unknownVarLambda': 0.25, 'perturbation_level': -4.0, 'outputDim': 5, 'modelType': 'NN', 'results_file_path': '/content/drive/My Drive/results_output_GIA_only.csv'}\n",
            "\n",
            "Command 'python main-gia.py --outputDim 5 --modelType RF --DataFile news_cleaned.csv --LogFile news.log  --n_attacker 15 --n_victim 44 --runtimes 2 --perturbation_level -4 --DPEpsilon 1 --DPDelta 1e-05 --DPSensitivity 0.01' executed successfully\n",
            "Output:\n",
            "{'DataFile': 'news_cleaned.csv', 'LogFile': 'news.log', 'n_attacker': 15, 'n_victim': 44, 'runtimes': 2, 'trainpart': 0.6, 'testpart': 0.2, 'predictpart': 0.2, 'enableConfRound': False, 'EnablePREDVEL': False, 'EnableNoising': False, 'EnableDropout': False, 'EnableDP': False, 'EnableEncryption': False, 'EnablePREDVELRankingOnly': False, 'DPEpsilon': 1.0, 'DPDelta': 1e-05, 'DPSensitivity': 0.01, 'roundPrecision': 1, 'StdDevNoising': 0.1, 'epochsForAttack': 60, 'epochsForClassifier': 60, 'meanLambda': 1.2, 'enableAttackerFeatures': True, 'enableMean': False, 'unknownVarLambda': 0.25, 'perturbation_level': -4.0, 'outputDim': 5, 'modelType': 'RF', 'results_file_path': '/content/drive/My Drive/results_output_GIA_only.csv'}\n",
            "\n",
            "Command 'python main-gia.py --outputDim 5 --modelType NN --DataFile news_cleaned.csv --LogFile news.log  --n_attacker 30 --n_victim 29 --runtimes 2 --perturbation_level -4 --DPEpsilon 1 --DPDelta 1e-05 --DPSensitivity 0.01' executed successfully\n",
            "Output:\n",
            "{'DataFile': 'news_cleaned.csv', 'LogFile': 'news.log', 'n_attacker': 30, 'n_victim': 29, 'runtimes': 2, 'trainpart': 0.6, 'testpart': 0.2, 'predictpart': 0.2, 'enableConfRound': False, 'EnablePREDVEL': False, 'EnableNoising': False, 'EnableDropout': False, 'EnableDP': False, 'EnableEncryption': False, 'EnablePREDVELRankingOnly': False, 'DPEpsilon': 1.0, 'DPDelta': 1e-05, 'DPSensitivity': 0.01, 'roundPrecision': 1, 'StdDevNoising': 0.1, 'epochsForAttack': 60, 'epochsForClassifier': 60, 'meanLambda': 1.2, 'enableAttackerFeatures': True, 'enableMean': False, 'unknownVarLambda': 0.25, 'perturbation_level': -4.0, 'outputDim': 5, 'modelType': 'NN', 'results_file_path': '/content/drive/My Drive/results_output_GIA_only.csv'}\n",
            "\n",
            "Command 'python main-gia.py --outputDim 5 --modelType RF --DataFile news_cleaned.csv --LogFile news.log  --n_attacker 30 --n_victim 29 --runtimes 2 --perturbation_level -4 --DPEpsilon 1 --DPDelta 1e-05 --DPSensitivity 0.01' executed successfully\n",
            "Output:\n",
            "{'DataFile': 'news_cleaned.csv', 'LogFile': 'news.log', 'n_attacker': 30, 'n_victim': 29, 'runtimes': 2, 'trainpart': 0.6, 'testpart': 0.2, 'predictpart': 0.2, 'enableConfRound': False, 'EnablePREDVEL': False, 'EnableNoising': False, 'EnableDropout': False, 'EnableDP': False, 'EnableEncryption': False, 'EnablePREDVELRankingOnly': False, 'DPEpsilon': 1.0, 'DPDelta': 1e-05, 'DPSensitivity': 0.01, 'roundPrecision': 1, 'StdDevNoising': 0.1, 'epochsForAttack': 60, 'epochsForClassifier': 60, 'meanLambda': 1.2, 'enableAttackerFeatures': True, 'enableMean': False, 'unknownVarLambda': 0.25, 'perturbation_level': -4.0, 'outputDim': 5, 'modelType': 'RF', 'results_file_path': '/content/drive/My Drive/results_output_GIA_only.csv'}\n",
            "\n",
            "Command 'python main-gia.py --outputDim 5 --modelType NN --DataFile news_cleaned.csv --LogFile news.log  --n_attacker 45 --n_victim 14 --runtimes 2 --perturbation_level -4 --DPEpsilon 1 --DPDelta 1e-05 --DPSensitivity 0.01' executed successfully\n",
            "Output:\n",
            "{'DataFile': 'news_cleaned.csv', 'LogFile': 'news.log', 'n_attacker': 45, 'n_victim': 14, 'runtimes': 2, 'trainpart': 0.6, 'testpart': 0.2, 'predictpart': 0.2, 'enableConfRound': False, 'EnablePREDVEL': False, 'EnableNoising': False, 'EnableDropout': False, 'EnableDP': False, 'EnableEncryption': False, 'EnablePREDVELRankingOnly': False, 'DPEpsilon': 1.0, 'DPDelta': 1e-05, 'DPSensitivity': 0.01, 'roundPrecision': 1, 'StdDevNoising': 0.1, 'epochsForAttack': 60, 'epochsForClassifier': 60, 'meanLambda': 1.2, 'enableAttackerFeatures': True, 'enableMean': False, 'unknownVarLambda': 0.25, 'perturbation_level': -4.0, 'outputDim': 5, 'modelType': 'NN', 'results_file_path': '/content/drive/My Drive/results_output_GIA_only.csv'}\n",
            "\n",
            "Command 'python main-gia.py --outputDim 5 --modelType RF --DataFile news_cleaned.csv --LogFile news.log  --n_attacker 45 --n_victim 14 --runtimes 2 --perturbation_level -4 --DPEpsilon 1 --DPDelta 1e-05 --DPSensitivity 0.01' executed successfully\n",
            "Output:\n",
            "{'DataFile': 'news_cleaned.csv', 'LogFile': 'news.log', 'n_attacker': 45, 'n_victim': 14, 'runtimes': 2, 'trainpart': 0.6, 'testpart': 0.2, 'predictpart': 0.2, 'enableConfRound': False, 'EnablePREDVEL': False, 'EnableNoising': False, 'EnableDropout': False, 'EnableDP': False, 'EnableEncryption': False, 'EnablePREDVELRankingOnly': False, 'DPEpsilon': 1.0, 'DPDelta': 1e-05, 'DPSensitivity': 0.01, 'roundPrecision': 1, 'StdDevNoising': 0.1, 'epochsForAttack': 60, 'epochsForClassifier': 60, 'meanLambda': 1.2, 'enableAttackerFeatures': True, 'enableMean': False, 'unknownVarLambda': 0.25, 'perturbation_level': -4.0, 'outputDim': 5, 'modelType': 'RF', 'results_file_path': '/content/drive/My Drive/results_output_GIA_only.csv'}\n",
            "\n"
          ]
        }
      ]
    },
    {
      "cell_type": "code",
      "source": [],
      "metadata": {
        "id": "R7JKYD74lw_0"
      },
      "execution_count": null,
      "outputs": []
    }
  ],
  "metadata": {
    "accelerator": "GPU",
    "colab": {
      "provenance": [],
      "gpuType": "T4"
    },
    "kernelspec": {
      "display_name": "Python 3",
      "name": "python3"
    },
    "language_info": {
      "name": "python"
    }
  },
  "nbformat": 4,
  "nbformat_minor": 0
}