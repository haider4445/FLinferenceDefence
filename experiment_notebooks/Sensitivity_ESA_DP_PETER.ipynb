{
  "nbformat": 4,
  "nbformat_minor": 0,
  "metadata": {
    "colab": {
      "provenance": []
    },
    "kernelspec": {
      "name": "python3",
      "display_name": "Python 3"
    },
    "language_info": {
      "name": "python"
    },
    "accelerator": "GPU",
    "gpuClass": "standard"
  },
  "cells": [
    {
      "cell_type": "code",
      "execution_count": null,
      "metadata": {
        "colab": {
          "base_uri": "https://localhost:8080/"
        },
        "id": "lcEVRYV_OFNn",
        "outputId": "b76ed10f-f2af-4836-d7df-a19be3e2517a"
      },
      "outputs": [
        {
          "output_type": "stream",
          "name": "stdout",
          "text": [
            "Cloning into 'FLinferenceDefence'...\n",
            "remote: Enumerating objects: 449, done.\u001b[K\n",
            "remote: Counting objects: 100% (385/385), done.\u001b[K\n",
            "remote: Compressing objects: 100% (172/172), done.\u001b[K\n",
            "remote: Total 449 (delta 275), reused 315 (delta 212), pack-reused 64\u001b[K\n",
            "Receiving objects: 100% (449/449), 64.28 MiB | 22.27 MiB/s, done.\n",
            "Resolving deltas: 100% (294/294), done.\n",
            "Updating files: 100% (221/221), done.\n"
          ]
        }
      ],
      "source": [
        "!git clone https://github.com/haider4445/FLinferenceDefence.git"
      ]
    },
    {
      "cell_type": "code",
      "source": [
        "!pip install diffprivlib"
      ],
      "metadata": {
        "colab": {
          "base_uri": "https://localhost:8080/"
        },
        "id": "PLLg0amzOf5e",
        "outputId": "c271d2a1-bb96-4210-9994-50bd93703a8b"
      },
      "execution_count": null,
      "outputs": [
        {
          "output_type": "stream",
          "name": "stdout",
          "text": [
            "Looking in indexes: https://pypi.org/simple, https://us-python.pkg.dev/colab-wheels/public/simple/\n",
            "Requirement already satisfied: diffprivlib in /usr/local/lib/python3.10/dist-packages (0.6.2)\n",
            "Requirement already satisfied: numpy>=1.21.6 in /usr/local/lib/python3.10/dist-packages (from diffprivlib) (1.22.4)\n",
            "Requirement already satisfied: scikit-learn>=0.24.2 in /usr/local/lib/python3.10/dist-packages (from diffprivlib) (1.2.2)\n",
            "Requirement already satisfied: scipy>=1.7.3 in /usr/local/lib/python3.10/dist-packages (from diffprivlib) (1.10.1)\n",
            "Requirement already satisfied: joblib>=0.16.0 in /usr/local/lib/python3.10/dist-packages (from diffprivlib) (1.2.0)\n",
            "Requirement already satisfied: setuptools>=49.0.0 in /usr/local/lib/python3.10/dist-packages (from diffprivlib) (67.7.2)\n",
            "Requirement already satisfied: threadpoolctl>=2.0.0 in /usr/local/lib/python3.10/dist-packages (from scikit-learn>=0.24.2->diffprivlib) (3.1.0)\n"
          ]
        }
      ]
    },
    {
      "cell_type": "code",
      "source": [
        "%cd FLinferenceDefence/ESA"
      ],
      "metadata": {
        "colab": {
          "base_uri": "https://localhost:8080/"
        },
        "id": "7f1CUVHQzF_b",
        "outputId": "402fd325-331f-4aac-cf33-c2c5bbde89b1"
      },
      "execution_count": null,
      "outputs": [
        {
          "output_type": "stream",
          "name": "stdout",
          "text": [
            "/content/FLinferenceDefence/ESA/FLinferenceDefence/ESA/FLinferenceDefence/ESA/FLinferenceDefence/ESA\n"
          ]
        }
      ]
    },
    {
      "cell_type": "markdown",
      "source": [
        "# PREDVEL ESA -4 DP 0.1"
      ],
      "metadata": {
        "id": "453bvv3iR9u7"
      }
    },
    {
      "cell_type": "code",
      "source": [
        "!python main-esa.py --DataFile news_cleaned.csv --LogFile news.csv --num_target_features 14 --EnablePREDVEL True --perturbation_level -4 --EnableDP True --DPEpsilon 0.1 --DPDelta 1e-5 --DPSensitivity 0.01"
      ],
      "metadata": {
        "id": "cxBmFyN9ReFZ",
        "colab": {
          "base_uri": "https://localhost:8080/"
        },
        "outputId": "08d4f8cf-c5ea-444e-c5bf-eceea5a25e14"
      },
      "execution_count": null,
      "outputs": [
        {
          "output_type": "stream",
          "name": "stdout",
          "text": [
            "4.8394512\n",
            "4.493678661250001\n",
            "4.8394512\n",
            "4.0812896\n",
            "4.59261730375\n",
            "4.0812896\n",
            "[[-6.3511143, 3.4839284, -2.7563498, -1.5116631, -0.5973612], [-25.316193, -4.519102, 3.646158, 1.0327103, -4.3337975], [-25.366964, -0.5158503, -0.74885315, -5.1572766, 3.500202]]\n",
            "------\n",
            "[[  3.2580903   -6.5769524   -0.3366742   -1.5813609   -2.4956628 ]\n",
            " [ 13.52010332  -7.27698768 -15.44224768 -12.82879998  -7.46229218]\n",
            " [ 14.05146718 -10.79964652 -10.56664367  -6.15822022 -14.81569882]]\n",
            "----------\n",
            "[[  3.27480803  -6.91600824  -0.41318243  -1.21887063  -2.32339094]\n",
            " [ 13.07402225  -7.31959171 -15.44226077 -11.20096094  -7.69017705]\n",
            " [ 14.08465365 -11.05010107 -11.11185401  -4.58214563 -14.7688955 ]]\n",
            "{'DataFile': 'news_cleaned.csv', 'LogFile': 'news.csv', 'n_attacker': 30, 'num_target_features': 14, 'num_exps': 2, 'train_percentage': 0.6, 'test_percentage': 0.2, 'pred_percentage': 0.2, 'enableConfRound': False, 'EnablePREDVEL': True, 'EnableNoising': False, 'EnableDP': True, 'DPEpsilon': 1.0, 'DPDelta': 1e-05, 'DPSensitivity': 0.01, 'roundPrecision': 1, 'StdDevNoising': 0.1, 'epoch_num': 60, 'epochsForClassifier': 60, 'meanLambda': 1.2, 'enableAttackerFeatures': True, 'enableMean': False, 'unknownVarLambda': 0.25, 'perturbation_level': -4.0, 'outputDim': 5, 'modelType': 'NN', 'max_depth': 5, 'min_samples_split': 3, 'min_samples_leaf': 5, 'min_impurity_decrease': 1e-05, 'criterion': 'gini'}\n",
            "dataset: /content/FLinferenceDefence/ESA/FLinferenceDefence/ESA/FLinferenceDefence/datasets/news_cleaned.csv\n",
            "number of target features: 14\n",
            "number of experimental trials: 2\n",
            "Begin trials\n",
            "-------------------------------------\n",
            "Attack trial 1 / 2\n",
            "Dataset column permutation is: \n",
            " tensor([13, 43, 18, 48,  1, 47,  8, 45, 56, 53, 44, 24, 40, 15, 16,  7, 50, 10,\n",
            "        20, 25, 29, 49, 17, 21, 35, 31, 27, 38, 14, 26, 57, 37, 46, 30, 51,  2,\n",
            "        32, 36, 52, 42,  4, 19, 54, 41,  5, 23, 28,  0, 55, 33,  9, 12,  3, 11,\n",
            "         6, 58, 22, 34, 39])\n",
            "/usr/local/lib/python3.10/dist-packages/torch/nn/modules/container.py:217: UserWarning: Implicit dimension choice for softmax has been deprecated. Change the call to include dim=X as an argument.\n",
            "  input = module(input)\n",
            "average attack mse: 11.188597\n",
            "average random mse: 0.233041\n",
            "-------------------------------------\n",
            "Attack trial 2 / 2\n",
            "Dataset column permutation is: \n",
            " tensor([44, 34,  0, 35, 10, 54, 33, 24, 18,  1, 13, 50, 15,  6, 56, 42, 52,  4,\n",
            "        27,  5, 16,  3, 57, 17, 36,  2, 32,  9, 43, 38, 51, 25, 37,  8, 20, 40,\n",
            "        46, 22, 53, 12, 31, 14, 11, 28, 55, 49, 26, 48,  7, 41, 21, 23, 58, 29,\n",
            "        45, 47, 39, 30, 19])\n",
            "average attack mse: 16.857237\n",
            "average random mse: 0.200642\n",
            "-------------------------------------\n",
            "Back propagation attack\t 2-Avg MSE:\t14.022917\n",
            "Random guess attack\t 2-Avg MSE:\t0.216841\n",
            "Accuracy of the original model: tensor(0.0928)\n",
            "Total Time Per Data Point Prediction 0.0005023758839646695\n",
            "See /content/FLinferenceDefence/ESA/FLinferenceDefence/ESA/FLinferenceDefence/ESA/log/news_unknown_14_expnum_2_20230524052820.csv for more details.\n"
          ]
        }
      ]
    },
    {
      "cell_type": "code",
      "source": [
        "!python main-esa.py --DataFile news_cleaned.csv --LogFile news.csv --num_target_features 29 --EnablePREDVEL True --perturbation_level -4 --EnableDP True --DPEpsilon 0.1 --DPDelta 1e-5 --DPSensitivity 0.01"
      ],
      "metadata": {
        "id": "1hFIkQTWReha",
        "colab": {
          "base_uri": "https://localhost:8080/"
        },
        "outputId": "5c32a97d-5ac3-493d-afec-7a9b183833ae"
      },
      "execution_count": null,
      "outputs": [
        {
          "output_type": "stream",
          "name": "stdout",
          "text": [
            "4.8394512\n",
            "5.15330338625\n",
            "4.8394512\n",
            "4.0812896\n",
            "4.5111933650000005\n",
            "4.0812896\n",
            "[[-6.3511143, 3.4839284, -2.7563498, -1.5116631, -0.5973612], [-25.316193, -4.519102, 3.646158, 1.0327103, -4.3337975], [-25.366964, -0.5158503, -0.74885315, -5.1572766, 3.500202]]\n",
            "------\n",
            "[[  3.2580903   -6.5769524   -0.3366742   -1.5813609   -2.4956628 ]\n",
            " [ 13.52010332  -7.27698768 -15.44224768 -12.82879998  -7.46229218]\n",
            " [ 14.05146718 -10.79964652 -10.56664367  -6.15822022 -14.81569882]]\n",
            "----------\n",
            "[[  3.27480803  -6.60991152  -0.20024216  -1.87849535  -2.09871816]\n",
            " [ 13.07402225  -7.33348955 -16.04307374 -12.86280852  -5.88003012]\n",
            " [ 14.08465365 -11.35130499 -10.84337553  -6.44306663 -13.23026357]]\n",
            "{'DataFile': 'news_cleaned.csv', 'LogFile': 'news.csv', 'n_attacker': 30, 'num_target_features': 29, 'num_exps': 2, 'train_percentage': 0.6, 'test_percentage': 0.2, 'pred_percentage': 0.2, 'enableConfRound': False, 'EnablePREDVEL': True, 'EnableNoising': False, 'EnableDP': True, 'DPEpsilon': 1.0, 'DPDelta': 1e-05, 'DPSensitivity': 0.01, 'roundPrecision': 1, 'StdDevNoising': 0.1, 'epoch_num': 60, 'epochsForClassifier': 60, 'meanLambda': 1.2, 'enableAttackerFeatures': True, 'enableMean': False, 'unknownVarLambda': 0.25, 'perturbation_level': -4.0, 'outputDim': 5, 'modelType': 'NN', 'max_depth': 5, 'min_samples_split': 3, 'min_samples_leaf': 5, 'min_impurity_decrease': 1e-05, 'criterion': 'gini'}\n",
            "dataset: /content/FLinferenceDefence/ESA/FLinferenceDefence/ESA/FLinferenceDefence/datasets/news_cleaned.csv\n",
            "number of target features: 29\n",
            "number of experimental trials: 2\n",
            "Begin trials\n",
            "-------------------------------------\n",
            "Attack trial 1 / 2\n",
            "Dataset column permutation is: \n",
            " tensor([13, 43, 18, 48,  1, 47,  8, 45, 56, 53, 44, 24, 40, 15, 16,  7, 50, 10,\n",
            "        20, 25, 29, 49, 17, 21, 35, 31, 27, 38, 14, 26, 57, 37, 46, 30, 51,  2,\n",
            "        32, 36, 52, 42,  4, 19, 54, 41,  5, 23, 28,  0, 55, 33,  9, 12,  3, 11,\n",
            "         6, 58, 22, 34, 39])\n",
            "/usr/local/lib/python3.10/dist-packages/torch/nn/modules/container.py:217: UserWarning: Implicit dimension choice for softmax has been deprecated. Change the call to include dim=X as an argument.\n",
            "  input = module(input)\n",
            "average attack mse: 2.974263\n",
            "average random mse: 0.237136\n",
            "-------------------------------------\n",
            "Attack trial 2 / 2\n",
            "Dataset column permutation is: \n",
            " tensor([15, 40,  0, 17, 14, 12, 50, 21, 16, 58, 56, 25,  8, 29, 23,  7, 13, 46,\n",
            "        47, 35, 51, 55,  1, 26, 44, 41, 27, 52, 43, 38, 36,  2, 30, 22, 39, 49,\n",
            "        28,  6,  5, 37, 45, 24, 34, 33, 48, 20, 53, 42, 32, 10, 57, 31,  4,  9,\n",
            "        11, 19, 18,  3, 54])\n",
            "average attack mse: 3.452533\n",
            "average random mse: 0.232542\n",
            "-------------------------------------\n",
            "Back propagation attack\t 2-Avg MSE:\t3.213398\n",
            "Random guess attack\t 2-Avg MSE:\t0.234839\n",
            "Accuracy of the original model: tensor(0.0824)\n",
            "Total Time Per Data Point Prediction 0.0004922780993006424\n",
            "See /content/FLinferenceDefence/ESA/FLinferenceDefence/ESA/FLinferenceDefence/ESA/log/news_unknown_29_expnum_2_20230524052937.csv for more details.\n"
          ]
        }
      ]
    },
    {
      "cell_type": "code",
      "source": [
        "!python main-esa.py --DataFile news_cleaned.csv --LogFile news.csv --num_target_features 44 --EnablePREDVEL True --perturbation_level -4 --EnableDP True --DPEpsilon 0.1 --DPDelta 1e-5 --DPSensitivity 0.01"
      ],
      "metadata": {
        "id": "aUrAwnr_Re4w",
        "colab": {
          "base_uri": "https://localhost:8080/"
        },
        "outputId": "ba95ae3b-5641-45e4-dc26-2a56e0f93fb3"
      },
      "execution_count": null,
      "outputs": [
        {
          "output_type": "stream",
          "name": "stdout",
          "text": [
            "4.8394512\n",
            "4.09202194125\n",
            "4.8394512\n",
            "4.0812896\n",
            "4.052104545000001\n",
            "4.0812896\n",
            "[[-6.3511143, 3.4839284, -2.7563498, -1.5116631, -0.5973612], [-25.316193, -4.519102, 3.646158, 1.0327103, -4.3337975], [-25.366964, -0.5158503, -0.74885315, -5.1572766, 3.500202]]\n",
            "------\n",
            "[[  3.2580903   -6.5769524   -0.3366742   -1.5813609   -2.4956628 ]\n",
            " [ 13.52010332  -7.27698768 -15.44224768 -12.82879998  -7.46229218]\n",
            " [ 14.05146718 -10.79964652 -10.56664367  -6.15822022 -14.81569882]]\n",
            "----------\n",
            "[[  2.90013867  -6.51043227  -0.3290512   -1.19188327  -2.45832773]\n",
            " [ 13.49040817  -7.86258856 -15.87741695 -11.30071039  -7.19142984]\n",
            " [ 13.73654668 -11.09064368 -10.51764841  -4.52903244 -15.03446145]]\n",
            "{'DataFile': 'news_cleaned.csv', 'LogFile': 'news.csv', 'n_attacker': 30, 'num_target_features': 44, 'num_exps': 2, 'train_percentage': 0.6, 'test_percentage': 0.2, 'pred_percentage': 0.2, 'enableConfRound': False, 'EnablePREDVEL': True, 'EnableNoising': False, 'EnableDP': True, 'DPEpsilon': 1.0, 'DPDelta': 1e-05, 'DPSensitivity': 0.01, 'roundPrecision': 1, 'StdDevNoising': 0.1, 'epoch_num': 60, 'epochsForClassifier': 60, 'meanLambda': 1.2, 'enableAttackerFeatures': True, 'enableMean': False, 'unknownVarLambda': 0.25, 'perturbation_level': -4.0, 'outputDim': 5, 'modelType': 'NN', 'max_depth': 5, 'min_samples_split': 3, 'min_samples_leaf': 5, 'min_impurity_decrease': 1e-05, 'criterion': 'gini'}\n",
            "dataset: /content/FLinferenceDefence/ESA/FLinferenceDefence/ESA/FLinferenceDefence/datasets/news_cleaned.csv\n",
            "number of target features: 44\n",
            "number of experimental trials: 2\n",
            "Begin trials\n",
            "-------------------------------------\n",
            "Attack trial 1 / 2\n",
            "Dataset column permutation is: \n",
            " tensor([13, 43, 18, 48,  1, 47,  8, 45, 56, 53, 44, 24, 40, 15, 16,  7, 50, 10,\n",
            "        20, 25, 29, 49, 17, 21, 35, 31, 27, 38, 14, 26, 57, 37, 46, 30, 51,  2,\n",
            "        32, 36, 52, 42,  4, 19, 54, 41,  5, 23, 28,  0, 55, 33,  9, 12,  3, 11,\n",
            "         6, 58, 22, 34, 39])\n",
            "/usr/local/lib/python3.10/dist-packages/torch/nn/modules/container.py:217: UserWarning: Implicit dimension choice for softmax has been deprecated. Change the call to include dim=X as an argument.\n",
            "  input = module(input)\n",
            "average attack mse: 1.391786\n",
            "average random mse: 0.239427\n",
            "-------------------------------------\n",
            "Attack trial 2 / 2\n",
            "Dataset column permutation is: \n",
            " tensor([51, 31, 37, 40, 45, 53,  7, 55, 27,  4, 57,  6, 10,  1, 33, 44, 19,  2,\n",
            "        22, 18,  8, 34,  9, 26, 38, 16, 46, 54, 12, 42, 36, 17, 21, 47,  0, 15,\n",
            "        32, 14, 48, 23, 58, 20,  5, 39, 24, 50, 25, 13, 41, 49, 56, 43, 28, 35,\n",
            "        11, 30, 52, 29,  3])\n",
            "average attack mse: 1.404222\n",
            "average random mse: 0.224805\n",
            "-------------------------------------\n",
            "Back propagation attack\t 2-Avg MSE:\t1.398004\n",
            "Random guess attack\t 2-Avg MSE:\t0.232116\n",
            "Accuracy of the original model: tensor(0.1206)\n",
            "Total Time Per Data Point Prediction 0.0005201753285289653\n",
            "See /content/FLinferenceDefence/ESA/FLinferenceDefence/ESA/FLinferenceDefence/ESA/log/news_unknown_44_expnum_2_20230524053053.csv for more details.\n"
          ]
        }
      ]
    },
    {
      "cell_type": "code",
      "source": [
        "!python main-esa.py --DataFile drive_cleaned.csv --LogFile drive.csv --num_target_features 12 --EnablePREDVEL True --perturbation_level -4 --EnableDP True --DPEpsilon 0.1 --DPDelta 1e-5 --DPSensitivity 0.01"
      ],
      "metadata": {
        "id": "5Ipw7qpuRiCw",
        "colab": {
          "base_uri": "https://localhost:8080/"
        },
        "outputId": "51cb1a42-35cf-4c56-c9a7-f93f6f6d1f35"
      },
      "execution_count": null,
      "outputs": [
        {
          "output_type": "stream",
          "name": "stdout",
          "text": [
            "4.8394512\n",
            "5.15330338625\n",
            "4.8394512\n",
            "4.0812896\n",
            "4.5111933650000005\n",
            "4.0812896\n",
            "[[-6.3511143, 3.4839284, -2.7563498, -1.5116631, -0.5973612], [-25.316193, -4.519102, 3.646158, 1.0327103, -4.3337975], [-25.366964, -0.5158503, -0.74885315, -5.1572766, 3.500202]]\n",
            "------\n",
            "[[  3.2580903   -6.5769524   -0.3366742   -1.5813609   -2.4956628 ]\n",
            " [ 13.52010332  -7.27698768 -15.44224768 -12.82879998  -7.46229218]\n",
            " [ 14.05146718 -10.79964652 -10.56664367  -6.15822022 -14.81569882]]\n",
            "----------\n",
            "[[  3.27480803  -6.60991152  -0.20024216  -1.87849535  -2.09871816]\n",
            " [ 13.07402225  -7.33348955 -16.04307374 -12.86280852  -5.88003012]\n",
            " [ 14.08465365 -11.35130499 -10.84337553  -6.44306663 -13.23026357]]\n",
            "{'DataFile': 'drive_cleaned.csv', 'LogFile': 'drive.csv', 'n_attacker': 30, 'num_target_features': 12, 'num_exps': 2, 'train_percentage': 0.6, 'test_percentage': 0.2, 'pred_percentage': 0.2, 'enableConfRound': False, 'EnablePREDVEL': True, 'EnableNoising': False, 'EnableDP': True, 'DPEpsilon': 1.0, 'DPDelta': 1e-05, 'DPSensitivity': 0.01, 'roundPrecision': 1, 'StdDevNoising': 0.1, 'epoch_num': 60, 'epochsForClassifier': 60, 'meanLambda': 1.2, 'enableAttackerFeatures': True, 'enableMean': False, 'unknownVarLambda': 0.25, 'perturbation_level': -4.0, 'outputDim': 5, 'modelType': 'NN', 'max_depth': 5, 'min_samples_split': 3, 'min_samples_leaf': 5, 'min_impurity_decrease': 1e-05, 'criterion': 'gini'}\n",
            "dataset: /content/FLinferenceDefence/ESA/FLinferenceDefence/ESA/FLinferenceDefence/datasets/drive_cleaned.csv\n",
            "number of target features: 12\n",
            "number of experimental trials: 2\n",
            "Begin trials\n",
            "-------------------------------------\n",
            "Attack trial 1 / 2\n",
            "Dataset column permutation is: \n",
            " tensor([16, 13, 17,  4, 21, 37, 46, 39,  1,  6, 38, 33, 25, 43, 47, 23, 15, 19,\n",
            "        42,  0,  7,  5,  8, 27, 18, 10, 12,  3, 14, 29, 31, 40, 41, 24, 36, 35,\n",
            "        11,  9,  2, 45, 26, 30, 22, 28, 32, 34, 20, 44])\n",
            "/usr/local/lib/python3.10/dist-packages/torch/nn/modules/container.py:217: UserWarning: Implicit dimension choice for softmax has been deprecated. Change the call to include dim=X as an argument.\n",
            "  input = module(input)\n",
            "average attack mse: 101.032295\n",
            "average random mse: 0.083033\n",
            "-------------------------------------\n",
            "Attack trial 2 / 2\n",
            "Dataset column permutation is: \n",
            " tensor([18, 27,  5, 47,  9, 34, 11, 39, 17, 26, 24, 19,  7,  4,  0, 13, 33, 14,\n",
            "        36, 32, 45, 41, 30,  8, 28, 40, 22, 20,  6,  3, 12,  1, 23, 46, 29, 15,\n",
            "         2, 35, 10, 21, 43, 25, 31, 44, 16, 37, 42, 38])\n",
            "average attack mse: 48.508888\n",
            "average random mse: 0.122329\n",
            "-------------------------------------\n",
            "Back propagation attack\t 2-Avg MSE:\t74.770592\n",
            "Random guess attack\t 2-Avg MSE:\t0.102681\n",
            "Accuracy of the original model: tensor(0.0865)\n",
            "Total Time Per Data Point Prediction 0.0006587782249258335\n",
            "See /content/FLinferenceDefence/ESA/FLinferenceDefence/ESA/FLinferenceDefence/ESA/log/drive_unknown_12_expnum_2_20230524053209.csv for more details.\n"
          ]
        }
      ]
    },
    {
      "cell_type": "code",
      "source": [
        "!python main-esa.py --DataFile drive_cleaned.csv --LogFile drive.csv --num_target_features 24 --EnablePREDVEL True --perturbation_level -4 --EnableDP True --DPEpsilon 0.1 --DPDelta 1e-5 --DPSensitivity 0.01"
      ],
      "metadata": {
        "id": "RurmMJHvRiM0",
        "colab": {
          "base_uri": "https://localhost:8080/"
        },
        "outputId": "bbba0796-8d03-471f-fc19-acceb682f1d2"
      },
      "execution_count": null,
      "outputs": [
        {
          "output_type": "stream",
          "name": "stdout",
          "text": [
            "4.8394512\n",
            "5.02423760375\n",
            "4.8394512\n",
            "4.0812896\n",
            "4.058232293750001\n",
            "4.0812896\n",
            "[[-6.3511143, 3.4839284, -2.7563498, -1.5116631, -0.5973612], [-25.316193, -4.519102, 3.646158, 1.0327103, -4.3337975], [-25.366964, -0.5158503, -0.74885315, -5.1572766, 3.500202]]\n",
            "------\n",
            "[[  3.2580903   -6.5769524   -0.3366742   -1.5813609   -2.4956628 ]\n",
            " [ 13.52010332  -7.27698768 -15.44224768 -12.82879998  -7.46229218]\n",
            " [ 14.05146718 -10.79964652 -10.56664367  -6.15822022 -14.81569882]]\n",
            "----------\n",
            "[[  3.20623539  -6.45941615   0.08492376  -1.81800221  -2.40118386]\n",
            " [ 13.47651033  -7.86490486 -13.90356551 -12.53344723  -7.52683657]\n",
            " [ 13.43534275 -11.14084433  -9.05212251  -6.19044553 -14.49336903]]\n",
            "{'DataFile': 'drive_cleaned.csv', 'LogFile': 'drive.csv', 'n_attacker': 30, 'num_target_features': 24, 'num_exps': 2, 'train_percentage': 0.6, 'test_percentage': 0.2, 'pred_percentage': 0.2, 'enableConfRound': False, 'EnablePREDVEL': True, 'EnableNoising': False, 'EnableDP': True, 'DPEpsilon': 1.0, 'DPDelta': 1e-05, 'DPSensitivity': 0.01, 'roundPrecision': 1, 'StdDevNoising': 0.1, 'epoch_num': 60, 'epochsForClassifier': 60, 'meanLambda': 1.2, 'enableAttackerFeatures': True, 'enableMean': False, 'unknownVarLambda': 0.25, 'perturbation_level': -4.0, 'outputDim': 5, 'modelType': 'NN', 'max_depth': 5, 'min_samples_split': 3, 'min_samples_leaf': 5, 'min_impurity_decrease': 1e-05, 'criterion': 'gini'}\n",
            "dataset: /content/FLinferenceDefence/ESA/FLinferenceDefence/ESA/FLinferenceDefence/datasets/drive_cleaned.csv\n",
            "number of target features: 24\n",
            "number of experimental trials: 2\n",
            "Begin trials\n",
            "-------------------------------------\n",
            "Attack trial 1 / 2\n",
            "Dataset column permutation is: \n",
            " tensor([16, 13, 17,  4, 21, 37, 46, 39,  1,  6, 38, 33, 25, 43, 47, 23, 15, 19,\n",
            "        42,  0,  7,  5,  8, 27, 18, 10, 12,  3, 14, 29, 31, 40, 41, 24, 36, 35,\n",
            "        11,  9,  2, 45, 26, 30, 22, 28, 32, 34, 20, 44])\n",
            "/usr/local/lib/python3.10/dist-packages/torch/nn/modules/container.py:217: UserWarning: Implicit dimension choice for softmax has been deprecated. Change the call to include dim=X as an argument.\n",
            "  input = module(input)\n",
            "average attack mse: 10.410860\n",
            "average random mse: 0.124539\n",
            "-------------------------------------\n",
            "Attack trial 2 / 2\n",
            "Dataset column permutation is: \n",
            " tensor([34, 24, 45,  7, 20, 26,  0, 27, 12, 31,  2, 17, 35, 25, 13, 37, 11,  4,\n",
            "        40, 39,  1, 46, 16, 32, 19, 18,  6, 14, 30, 38,  9, 29, 23, 10, 41, 47,\n",
            "        21, 15, 28, 22,  8, 43,  3,  5, 36, 33, 42, 44])\n",
            "average attack mse: 6.315546\n",
            "average random mse: 0.132717\n",
            "-------------------------------------\n",
            "Back propagation attack\t 2-Avg MSE:\t8.363203\n",
            "Random guess attack\t 2-Avg MSE:\t0.128628\n",
            "Accuracy of the original model: tensor(0.0565)\n",
            "Total Time Per Data Point Prediction 0.0006805301048788044\n",
            "See /content/FLinferenceDefence/ESA/FLinferenceDefence/ESA/FLinferenceDefence/ESA/log/drive_unknown_24_expnum_2_20230524053404.csv for more details.\n"
          ]
        }
      ]
    },
    {
      "cell_type": "code",
      "source": [
        "!python main-esa.py --DataFile drive_cleaned.csv --LogFile drive.csv --num_target_features 36 --EnablePREDVEL True --perturbation_level -4 --EnableDP True --DPEpsilon 0.1 --DPDelta 1e-5 --DPSensitivity 0.01"
      ],
      "metadata": {
        "id": "XNJL2eJMRiW3",
        "colab": {
          "base_uri": "https://localhost:8080/"
        },
        "outputId": "327d509c-2623-4790-e718-2f9f1997787c"
      },
      "execution_count": null,
      "outputs": [
        {
          "output_type": "stream",
          "name": "stdout",
          "text": [
            "4.8394512\n",
            "4.42147499875\n",
            "4.8394512\n",
            "4.0812896\n",
            "4.3489654775\n",
            "4.0812896\n",
            "[[-6.3511143, 3.4839284, -2.7563498, -1.5116631, -0.5973612], [-25.316193, -4.519102, 3.646158, 1.0327103, -4.3337975], [-25.366964, -0.5158503, -0.74885315, -5.1572766, 3.500202]]\n",
            "------\n",
            "[[  3.2580903   -6.5769524   -0.3366742   -1.5813609   -2.4956628 ]\n",
            " [ 13.52010332  -7.27698768 -15.44224768 -12.82879998  -7.46229218]\n",
            " [ 14.05146718 -10.79964652 -10.56664367  -6.15822022 -14.81569882]]\n",
            "----------\n",
            "[[ 2.90013867e+00 -6.67235642e+00  6.92028250e-03 -1.52133633e+00\n",
            "  -2.32339094e+00]\n",
            " [ 1.34904082e+01 -7.26409190e+00 -1.38014998e+01 -1.28477674e+01\n",
            "  -7.69017705e+00]\n",
            " [ 1.37365467e+01 -1.14093228e+01 -9.05503504e+00 -5.84525110e+00\n",
            "  -1.47688955e+01]]\n",
            "{'DataFile': 'drive_cleaned.csv', 'LogFile': 'drive.csv', 'n_attacker': 30, 'num_target_features': 36, 'num_exps': 2, 'train_percentage': 0.6, 'test_percentage': 0.2, 'pred_percentage': 0.2, 'enableConfRound': False, 'EnablePREDVEL': True, 'EnableNoising': False, 'EnableDP': True, 'DPEpsilon': 1.0, 'DPDelta': 1e-05, 'DPSensitivity': 0.01, 'roundPrecision': 1, 'StdDevNoising': 0.1, 'epoch_num': 60, 'epochsForClassifier': 60, 'meanLambda': 1.2, 'enableAttackerFeatures': True, 'enableMean': False, 'unknownVarLambda': 0.25, 'perturbation_level': -4.0, 'outputDim': 5, 'modelType': 'NN', 'max_depth': 5, 'min_samples_split': 3, 'min_samples_leaf': 5, 'min_impurity_decrease': 1e-05, 'criterion': 'gini'}\n",
            "dataset: /content/FLinferenceDefence/ESA/FLinferenceDefence/ESA/FLinferenceDefence/datasets/drive_cleaned.csv\n",
            "number of target features: 36\n",
            "number of experimental trials: 2\n",
            "Begin trials\n",
            "-------------------------------------\n",
            "Attack trial 1 / 2\n",
            "Dataset column permutation is: \n",
            " tensor([16, 13, 17,  4, 21, 37, 46, 39,  1,  6, 38, 33, 25, 43, 47, 23, 15, 19,\n",
            "        42,  0,  7,  5,  8, 27, 18, 10, 12,  3, 14, 29, 31, 40, 41, 24, 36, 35,\n",
            "        11,  9,  2, 45, 26, 30, 22, 28, 32, 34, 20, 44])\n",
            "/usr/local/lib/python3.10/dist-packages/torch/nn/modules/container.py:217: UserWarning: Implicit dimension choice for softmax has been deprecated. Change the call to include dim=X as an argument.\n",
            "  input = module(input)\n",
            "average attack mse: 4.148529\n",
            "average random mse: 0.120199\n",
            "-------------------------------------\n",
            "Attack trial 2 / 2\n",
            "Dataset column permutation is: \n",
            " tensor([20, 21, 32,  5, 45, 46, 29,  8, 27, 37, 18, 42, 30,  7,  2,  1, 12, 33,\n",
            "        22, 13, 34,  3, 35, 36, 44, 24, 14,  9, 31, 43,  0, 16, 25, 47, 15,  6,\n",
            "        26, 17, 28, 19, 40, 23, 39, 10, 41,  4, 38, 11])\n",
            "average attack mse: 4.358970\n",
            "average random mse: 0.146336\n",
            "-------------------------------------\n",
            "Back propagation attack\t 2-Avg MSE:\t4.253749\n",
            "Random guess attack\t 2-Avg MSE:\t0.133268\n",
            "Accuracy of the original model: tensor(0.0898)\n",
            "Total Time Per Data Point Prediction 0.0006810973499709852\n",
            "See /content/FLinferenceDefence/ESA/FLinferenceDefence/ESA/FLinferenceDefence/ESA/log/drive_unknown_36_expnum_2_20230524053559.csv for more details.\n"
          ]
        }
      ]
    },
    {
      "cell_type": "markdown",
      "source": [
        "# DP 0.5"
      ],
      "metadata": {
        "id": "jFn2CwLItrx-"
      }
    },
    {
      "cell_type": "code",
      "source": [
        "!python main-esa.py --DataFile news_cleaned.csv --LogFile news.csv --num_target_features 14 --EnablePREDVEL False --perturbation_level -4 --EnableDP True --DPEpsilon 0.5 --DPDelta 1e-5 --DPSensitivity 0.01"
      ],
      "metadata": {
        "id": "1FJNlmYsQVxo",
        "colab": {
          "base_uri": "https://localhost:8080/"
        },
        "outputId": "0f47a8ce-fc1b-49fd-db7c-fe5c70e02737"
      },
      "execution_count": null,
      "outputs": [
        {
          "output_type": "stream",
          "name": "stdout",
          "text": [
            "4.8394512\n",
            "5.444340312500001\n",
            "4.8394512\n",
            "4.0812896\n",
            "4.02251801375\n",
            "4.0812896\n",
            "[[-6.3511143, 3.4839284, -2.7563498, -1.5116631, -0.5973612], [-25.316193, -4.519102, 3.646158, 1.0327103, -4.3337975], [-25.366964, -0.5158503, -0.74885315, -5.1572766, 3.500202]]\n",
            "------\n",
            "[[  3.2580903   -6.5769524   -0.3366742   -1.5813609   -2.4956628 ]\n",
            " [ 13.52010332  -7.27698768 -15.44224768 -12.82879998  -7.46229218]\n",
            " [ 14.05146718 -10.79964652 -10.56664367  -6.15822022 -14.81569882]]\n",
            "----------\n",
            "[[  3.63776687  -6.48084574  -0.12832025  -1.80657344  -2.45832773]\n",
            " [ 15.05018999  -7.40661634 -15.7807938  -12.60052857  -7.19142984]\n",
            " [ 15.6003802  -10.449373   -10.48253595  -6.08222705 -15.03446145]]\n",
            "{'DataFile': 'news_cleaned.csv', 'LogFile': 'news.csv', 'n_attacker': 30, 'num_target_features': 14, 'num_exps': 2, 'train_percentage': 0.6, 'test_percentage': 0.2, 'pred_percentage': 0.2, 'enableConfRound': False, 'EnablePREDVEL': True, 'EnableNoising': False, 'EnableDP': True, 'DPEpsilon': 1.0, 'DPDelta': 1e-05, 'DPSensitivity': 0.01, 'roundPrecision': 1, 'StdDevNoising': 0.1, 'epoch_num': 60, 'epochsForClassifier': 60, 'meanLambda': 1.2, 'enableAttackerFeatures': True, 'enableMean': False, 'unknownVarLambda': 0.25, 'perturbation_level': -4.0, 'outputDim': 5, 'modelType': 'NN', 'max_depth': 5, 'min_samples_split': 3, 'min_samples_leaf': 5, 'min_impurity_decrease': 1e-05, 'criterion': 'gini'}\n",
            "dataset: /content/FLinferenceDefence/ESA/FLinferenceDefence/ESA/FLinferenceDefence/datasets/news_cleaned.csv\n",
            "number of target features: 14\n",
            "number of experimental trials: 2\n",
            "Begin trials\n",
            "-------------------------------------\n",
            "Attack trial 1 / 2\n",
            "Dataset column permutation is: \n",
            " tensor([13, 43, 18, 48,  1, 47,  8, 45, 56, 53, 44, 24, 40, 15, 16,  7, 50, 10,\n",
            "        20, 25, 29, 49, 17, 21, 35, 31, 27, 38, 14, 26, 57, 37, 46, 30, 51,  2,\n",
            "        32, 36, 52, 42,  4, 19, 54, 41,  5, 23, 28,  0, 55, 33,  9, 12,  3, 11,\n",
            "         6, 58, 22, 34, 39])\n",
            "/usr/local/lib/python3.10/dist-packages/torch/nn/modules/container.py:217: UserWarning: Implicit dimension choice for softmax has been deprecated. Change the call to include dim=X as an argument.\n",
            "  input = module(input)\n",
            "average attack mse: 11.188597\n",
            "average random mse: 0.233041\n",
            "-------------------------------------\n",
            "Attack trial 2 / 2\n",
            "Dataset column permutation is: \n",
            " tensor([44, 34,  0, 35, 10, 54, 33, 24, 18,  1, 13, 50, 15,  6, 56, 42, 52,  4,\n",
            "        27,  5, 16,  3, 57, 17, 36,  2, 32,  9, 43, 38, 51, 25, 37,  8, 20, 40,\n",
            "        46, 22, 53, 12, 31, 14, 11, 28, 55, 49, 26, 48,  7, 41, 21, 23, 58, 29,\n",
            "        45, 47, 39, 30, 19])\n",
            "average attack mse: 16.857237\n",
            "average random mse: 0.200642\n",
            "-------------------------------------\n",
            "Back propagation attack\t 2-Avg MSE:\t14.022917\n",
            "Random guess attack\t 2-Avg MSE:\t0.216841\n",
            "Accuracy of the original model: tensor(0.0928)\n",
            "Total Time Per Data Point Prediction 0.00048397657368426123\n",
            "See /content/FLinferenceDefence/ESA/FLinferenceDefence/ESA/FLinferenceDefence/ESA/log/news_unknown_14_expnum_2_20230524053755.csv for more details.\n"
          ]
        }
      ]
    },
    {
      "cell_type": "code",
      "source": [
        "!python main-esa.py --DataFile news_cleaned.csv --LogFile news.csv --num_target_features 29 --EnablePREDVEL False --perturbation_level -4 --EnableDP True --DPEpsilon 0.5 --DPDelta 1e-5 --DPSensitivity 0.01"
      ],
      "metadata": {
        "id": "_63Iw9JpRPjw",
        "colab": {
          "base_uri": "https://localhost:8080/"
        },
        "outputId": "6ea96616-dfa0-40e1-92b0-d5ae1abe073e"
      },
      "execution_count": null,
      "outputs": [
        {
          "output_type": "stream",
          "name": "stdout",
          "text": [
            "4.8394512\n",
            "4.493678661250001\n",
            "4.8394512\n",
            "4.0812896\n",
            "4.286520583750001\n",
            "4.0812896\n",
            "[[-6.3511143, 3.4839284, -2.7563498, -1.5116631, -0.5973612], [-25.316193, -4.519102, 3.646158, 1.0327103, -4.3337975], [-25.366964, -0.5158503, -0.74885315, -5.1572766, 3.500202]]\n",
            "------\n",
            "[[  3.2580903   -6.5769524   -0.3366742   -1.5813609   -2.4956628 ]\n",
            " [ 13.52010332  -7.27698768 -15.44224768 -12.82879998  -7.46229218]\n",
            " [ 14.05146718 -10.79964652 -10.56664367  -6.15822022 -14.81569882]]\n",
            "----------\n",
            "[[  3.27480803  -6.60991152  -0.66826303  -1.21887063  -2.32339094]\n",
            " [ 13.07402225  -7.33348955 -15.43067924 -11.20096094  -7.69017705]\n",
            " [ 14.08465365 -11.35130499 -10.86085074  -4.58214563 -14.7688955 ]]\n",
            "{'DataFile': 'news_cleaned.csv', 'LogFile': 'news.csv', 'n_attacker': 30, 'num_target_features': 29, 'num_exps': 2, 'train_percentage': 0.6, 'test_percentage': 0.2, 'pred_percentage': 0.2, 'enableConfRound': False, 'EnablePREDVEL': True, 'EnableNoising': False, 'EnableDP': True, 'DPEpsilon': 1.0, 'DPDelta': 1e-05, 'DPSensitivity': 0.01, 'roundPrecision': 1, 'StdDevNoising': 0.1, 'epoch_num': 60, 'epochsForClassifier': 60, 'meanLambda': 1.2, 'enableAttackerFeatures': True, 'enableMean': False, 'unknownVarLambda': 0.25, 'perturbation_level': -4.0, 'outputDim': 5, 'modelType': 'NN', 'max_depth': 5, 'min_samples_split': 3, 'min_samples_leaf': 5, 'min_impurity_decrease': 1e-05, 'criterion': 'gini'}\n",
            "dataset: /content/FLinferenceDefence/ESA/FLinferenceDefence/ESA/FLinferenceDefence/datasets/news_cleaned.csv\n",
            "number of target features: 29\n",
            "number of experimental trials: 2\n",
            "Begin trials\n",
            "-------------------------------------\n",
            "Attack trial 1 / 2\n",
            "Dataset column permutation is: \n",
            " tensor([13, 43, 18, 48,  1, 47,  8, 45, 56, 53, 44, 24, 40, 15, 16,  7, 50, 10,\n",
            "        20, 25, 29, 49, 17, 21, 35, 31, 27, 38, 14, 26, 57, 37, 46, 30, 51,  2,\n",
            "        32, 36, 52, 42,  4, 19, 54, 41,  5, 23, 28,  0, 55, 33,  9, 12,  3, 11,\n",
            "         6, 58, 22, 34, 39])\n",
            "/usr/local/lib/python3.10/dist-packages/torch/nn/modules/container.py:217: UserWarning: Implicit dimension choice for softmax has been deprecated. Change the call to include dim=X as an argument.\n",
            "  input = module(input)\n",
            "average attack mse: 2.974263\n",
            "average random mse: 0.237136\n",
            "-------------------------------------\n",
            "Attack trial 2 / 2\n",
            "Dataset column permutation is: \n",
            " tensor([15, 40,  0, 17, 14, 12, 50, 21, 16, 58, 56, 25,  8, 29, 23,  7, 13, 46,\n",
            "        47, 35, 51, 55,  1, 26, 44, 41, 27, 52, 43, 38, 36,  2, 30, 22, 39, 49,\n",
            "        28,  6,  5, 37, 45, 24, 34, 33, 48, 20, 53, 42, 32, 10, 57, 31,  4,  9,\n",
            "        11, 19, 18,  3, 54])\n",
            "average attack mse: 3.452533\n",
            "average random mse: 0.232542\n",
            "-------------------------------------\n",
            "Back propagation attack\t 2-Avg MSE:\t3.213398\n",
            "Random guess attack\t 2-Avg MSE:\t0.234839\n",
            "Accuracy of the original model: tensor(0.0824)\n",
            "Total Time Per Data Point Prediction 0.0005095356889257037\n",
            "See /content/FLinferenceDefence/ESA/FLinferenceDefence/ESA/FLinferenceDefence/ESA/log/news_unknown_29_expnum_2_20230524053912.csv for more details.\n"
          ]
        }
      ]
    },
    {
      "cell_type": "code",
      "source": [
        "!python main-esa.py --DataFile news_cleaned.csv --LogFile news.csv --num_target_features 44 --EnablePREDVEL False --perturbation_level -4 --EnableDP True --DPEpsilon 0.5 --DPDelta 1e-5 --DPSensitivity 0.01"
      ],
      "metadata": {
        "id": "hkCkE8JDRQLz",
        "colab": {
          "base_uri": "https://localhost:8080/"
        },
        "outputId": "bededa60-3b33-47d9-89d3-ff2f596fc2d6"
      },
      "execution_count": null,
      "outputs": [
        {
          "output_type": "stream",
          "name": "stdout",
          "text": [
            "4.8394512\n",
            "5.054322925000001\n",
            "4.8394512\n",
            "4.0812896\n",
            "4.397187376249999\n",
            "4.0812896\n",
            "[[-6.3511143, 3.4839284, -2.7563498, -1.5116631, -0.5973612], [-25.316193, -4.519102, 3.646158, 1.0327103, -4.3337975], [-25.366964, -0.5158503, -0.74885315, -5.1572766, 3.500202]]\n",
            "------\n",
            "[[  3.2580903   -6.5769524   -0.3366742   -1.5813609   -2.4956628 ]\n",
            " [ 13.52010332  -7.27698768 -15.44224768 -12.82879998  -7.46229218]\n",
            " [ 14.05146718 -10.79964652 -10.56664367  -6.15822022 -14.81569882]]\n",
            "----------\n",
            "[[  3.63776687  -6.8555151   -0.28411664  -1.41655605  -2.45832773]\n",
            " [ 15.05018999  -6.99023042 -15.51538757 -13.11085732  -7.19142984]\n",
            " [ 15.6003802  -10.79747997 -10.20992202  -6.06766437 -15.03446145]]\n",
            "{'DataFile': 'news_cleaned.csv', 'LogFile': 'news.csv', 'n_attacker': 30, 'num_target_features': 44, 'num_exps': 2, 'train_percentage': 0.6, 'test_percentage': 0.2, 'pred_percentage': 0.2, 'enableConfRound': False, 'EnablePREDVEL': True, 'EnableNoising': False, 'EnableDP': True, 'DPEpsilon': 1.0, 'DPDelta': 1e-05, 'DPSensitivity': 0.01, 'roundPrecision': 1, 'StdDevNoising': 0.1, 'epoch_num': 60, 'epochsForClassifier': 60, 'meanLambda': 1.2, 'enableAttackerFeatures': True, 'enableMean': False, 'unknownVarLambda': 0.25, 'perturbation_level': -4.0, 'outputDim': 5, 'modelType': 'NN', 'max_depth': 5, 'min_samples_split': 3, 'min_samples_leaf': 5, 'min_impurity_decrease': 1e-05, 'criterion': 'gini'}\n",
            "dataset: /content/FLinferenceDefence/ESA/FLinferenceDefence/ESA/FLinferenceDefence/datasets/news_cleaned.csv\n",
            "number of target features: 44\n",
            "number of experimental trials: 2\n",
            "Begin trials\n",
            "-------------------------------------\n",
            "Attack trial 1 / 2\n",
            "Dataset column permutation is: \n",
            " tensor([13, 43, 18, 48,  1, 47,  8, 45, 56, 53, 44, 24, 40, 15, 16,  7, 50, 10,\n",
            "        20, 25, 29, 49, 17, 21, 35, 31, 27, 38, 14, 26, 57, 37, 46, 30, 51,  2,\n",
            "        32, 36, 52, 42,  4, 19, 54, 41,  5, 23, 28,  0, 55, 33,  9, 12,  3, 11,\n",
            "         6, 58, 22, 34, 39])\n",
            "/usr/local/lib/python3.10/dist-packages/torch/nn/modules/container.py:217: UserWarning: Implicit dimension choice for softmax has been deprecated. Change the call to include dim=X as an argument.\n",
            "  input = module(input)\n",
            "average attack mse: 1.391786\n",
            "average random mse: 0.239427\n",
            "-------------------------------------\n",
            "Attack trial 2 / 2\n",
            "Dataset column permutation is: \n",
            " tensor([51, 31, 37, 40, 45, 53,  7, 55, 27,  4, 57,  6, 10,  1, 33, 44, 19,  2,\n",
            "        22, 18,  8, 34,  9, 26, 38, 16, 46, 54, 12, 42, 36, 17, 21, 47,  0, 15,\n",
            "        32, 14, 48, 23, 58, 20,  5, 39, 24, 50, 25, 13, 41, 49, 56, 43, 28, 35,\n",
            "        11, 30, 52, 29,  3])\n",
            "average attack mse: 1.404222\n",
            "average random mse: 0.224805\n",
            "-------------------------------------\n",
            "Back propagation attack\t 2-Avg MSE:\t1.398004\n",
            "Random guess attack\t 2-Avg MSE:\t0.232116\n",
            "Accuracy of the original model: tensor(0.1206)\n",
            "Total Time Per Data Point Prediction 0.0005272701758549264\n",
            "See /content/FLinferenceDefence/ESA/FLinferenceDefence/ESA/FLinferenceDefence/ESA/log/news_unknown_44_expnum_2_20230524054028.csv for more details.\n"
          ]
        }
      ]
    },
    {
      "cell_type": "code",
      "source": [
        "!python main-esa.py --DataFile drive_cleaned.csv --LogFile drive.csv --num_target_features 12 --EnablePREDVEL False --perturbation_level -4 --EnableDP True --DPEpsilon 0.5 --DPDelta 1e-5 --DPSensitivity 0.01"
      ],
      "metadata": {
        "id": "N4rGDXNaQdiR",
        "colab": {
          "base_uri": "https://localhost:8080/"
        },
        "outputId": "e7fcf0ce-063b-4a0f-aef3-a580d038d3bf"
      },
      "execution_count": null,
      "outputs": [
        {
          "output_type": "stream",
          "name": "stdout",
          "text": [
            "4.8394512\n",
            "4.34710254125\n",
            "4.8394512\n",
            "4.0812896\n",
            "3.746007825000001\n",
            "4.0812896\n",
            "[[-6.3511143, 3.4839284, -2.7563498, -1.5116631, -0.5973612], [-25.316193, -4.519102, 3.646158, 1.0327103, -4.3337975], [-25.366964, -0.5158503, -0.74885315, -5.1572766, 3.500202]]\n",
            "------\n",
            "[[  3.2580903   -6.5769524   -0.3366742   -1.5813609   -2.4956628 ]\n",
            " [ 13.52010332  -7.27698768 -15.44224768 -12.82879998  -7.46229218]\n",
            " [ 14.05146718 -10.79964652 -10.56664367  -6.15822022 -14.81569882]]\n",
            "----------\n",
            "[[  3.20623539  -6.45941615  -0.27803508  -1.14086715  -2.71340833]\n",
            " [ 13.47651033  -7.86490486 -15.87973326 -11.30302669  -7.1798483 ]\n",
            " [ 13.43534275 -11.14084433 -10.56784906  -4.5792331  -14.78345818]]\n",
            "{'DataFile': 'drive_cleaned.csv', 'LogFile': 'drive.csv', 'n_attacker': 30, 'num_target_features': 12, 'num_exps': 2, 'train_percentage': 0.6, 'test_percentage': 0.2, 'pred_percentage': 0.2, 'enableConfRound': False, 'EnablePREDVEL': True, 'EnableNoising': False, 'EnableDP': True, 'DPEpsilon': 1.0, 'DPDelta': 1e-05, 'DPSensitivity': 0.01, 'roundPrecision': 1, 'StdDevNoising': 0.1, 'epoch_num': 60, 'epochsForClassifier': 60, 'meanLambda': 1.2, 'enableAttackerFeatures': True, 'enableMean': False, 'unknownVarLambda': 0.25, 'perturbation_level': -4.0, 'outputDim': 5, 'modelType': 'NN', 'max_depth': 5, 'min_samples_split': 3, 'min_samples_leaf': 5, 'min_impurity_decrease': 1e-05, 'criterion': 'gini'}\n",
            "dataset: /content/FLinferenceDefence/ESA/FLinferenceDefence/ESA/FLinferenceDefence/datasets/drive_cleaned.csv\n",
            "number of target features: 12\n",
            "number of experimental trials: 2\n",
            "Begin trials\n",
            "-------------------------------------\n",
            "Attack trial 1 / 2\n",
            "Dataset column permutation is: \n",
            " tensor([16, 13, 17,  4, 21, 37, 46, 39,  1,  6, 38, 33, 25, 43, 47, 23, 15, 19,\n",
            "        42,  0,  7,  5,  8, 27, 18, 10, 12,  3, 14, 29, 31, 40, 41, 24, 36, 35,\n",
            "        11,  9,  2, 45, 26, 30, 22, 28, 32, 34, 20, 44])\n",
            "/usr/local/lib/python3.10/dist-packages/torch/nn/modules/container.py:217: UserWarning: Implicit dimension choice for softmax has been deprecated. Change the call to include dim=X as an argument.\n",
            "  input = module(input)\n",
            "average attack mse: 101.032295\n",
            "average random mse: 0.083033\n",
            "-------------------------------------\n",
            "Attack trial 2 / 2\n",
            "Dataset column permutation is: \n",
            " tensor([18, 27,  5, 47,  9, 34, 11, 39, 17, 26, 24, 19,  7,  4,  0, 13, 33, 14,\n",
            "        36, 32, 45, 41, 30,  8, 28, 40, 22, 20,  6,  3, 12,  1, 23, 46, 29, 15,\n",
            "         2, 35, 10, 21, 43, 25, 31, 44, 16, 37, 42, 38])\n",
            "average attack mse: 48.508888\n",
            "average random mse: 0.122329\n",
            "-------------------------------------\n",
            "Back propagation attack\t 2-Avg MSE:\t74.770592\n",
            "Random guess attack\t 2-Avg MSE:\t0.102681\n",
            "Accuracy of the original model: tensor(0.0865)\n",
            "Total Time Per Data Point Prediction 0.0006738004496174789\n",
            "See /content/FLinferenceDefence/ESA/FLinferenceDefence/ESA/FLinferenceDefence/ESA/log/drive_unknown_12_expnum_2_20230524054146.csv for more details.\n"
          ]
        }
      ]
    },
    {
      "cell_type": "code",
      "source": [
        "!python main-esa.py --DataFile drive_cleaned.csv --LogFile drive.csv --num_target_features 24 --EnablePREDVEL False --perturbation_level -4 --EnableDP True --DPEpsilon 0.5 --DPDelta 1e-5 --DPSensitivity 0.01"
      ],
      "metadata": {
        "id": "SF0VGX_7RRHt",
        "colab": {
          "base_uri": "https://localhost:8080/"
        },
        "outputId": "a2bd6923-8528-4e62-cd3e-bf182164fdba"
      },
      "execution_count": null,
      "outputs": [
        {
          "output_type": "stream",
          "name": "stdout",
          "text": [
            "4.8394512\n",
            "4.93443042\n",
            "4.8394512\n",
            "4.0812896\n",
            "4.80173150125\n",
            "4.0812896\n",
            "[[-6.3511143, 3.4839284, -2.7563498, -1.5116631, -0.5973612], [-25.316193, -4.519102, 3.646158, 1.0327103, -4.3337975], [-25.366964, -0.5158503, -0.74885315, -5.1572766, 3.500202]]\n",
            "------\n",
            "[[  3.2580903   -6.5769524   -0.3366742   -1.5813609   -2.4956628 ]\n",
            " [ 13.52010332  -7.27698768 -15.44224768 -12.82879998  -7.46229218]\n",
            " [ 14.05146718 -10.79964652 -10.56664367  -6.15822022 -14.81569882]]\n",
            "----------\n",
            "[[  3.36815953  -6.90044966  -0.39762384  -1.56627089  -2.09871816]\n",
            " [ 12.87801367  -7.35225981 -15.47492887 -13.20979679  -5.88003012]\n",
            " [ 13.75402189 -11.10520636 -11.1669593   -6.15297748 -13.23026357]]\n",
            "{'DataFile': 'drive_cleaned.csv', 'LogFile': 'drive.csv', 'n_attacker': 30, 'num_target_features': 24, 'num_exps': 2, 'train_percentage': 0.6, 'test_percentage': 0.2, 'pred_percentage': 0.2, 'enableConfRound': False, 'EnablePREDVEL': True, 'EnableNoising': False, 'EnableDP': True, 'DPEpsilon': 1.0, 'DPDelta': 1e-05, 'DPSensitivity': 0.01, 'roundPrecision': 1, 'StdDevNoising': 0.1, 'epoch_num': 60, 'epochsForClassifier': 60, 'meanLambda': 1.2, 'enableAttackerFeatures': True, 'enableMean': False, 'unknownVarLambda': 0.25, 'perturbation_level': -4.0, 'outputDim': 5, 'modelType': 'NN', 'max_depth': 5, 'min_samples_split': 3, 'min_samples_leaf': 5, 'min_impurity_decrease': 1e-05, 'criterion': 'gini'}\n",
            "dataset: /content/FLinferenceDefence/ESA/FLinferenceDefence/ESA/FLinferenceDefence/datasets/drive_cleaned.csv\n",
            "number of target features: 24\n",
            "number of experimental trials: 2\n",
            "Begin trials\n",
            "-------------------------------------\n",
            "Attack trial 1 / 2\n",
            "Dataset column permutation is: \n",
            " tensor([16, 13, 17,  4, 21, 37, 46, 39,  1,  6, 38, 33, 25, 43, 47, 23, 15, 19,\n",
            "        42,  0,  7,  5,  8, 27, 18, 10, 12,  3, 14, 29, 31, 40, 41, 24, 36, 35,\n",
            "        11,  9,  2, 45, 26, 30, 22, 28, 32, 34, 20, 44])\n",
            "/usr/local/lib/python3.10/dist-packages/torch/nn/modules/container.py:217: UserWarning: Implicit dimension choice for softmax has been deprecated. Change the call to include dim=X as an argument.\n",
            "  input = module(input)\n",
            "average attack mse: 10.410860\n",
            "average random mse: 0.124539\n",
            "-------------------------------------\n",
            "Attack trial 2 / 2\n",
            "Dataset column permutation is: \n",
            " tensor([34, 24, 45,  7, 20, 26,  0, 27, 12, 31,  2, 17, 35, 25, 13, 37, 11,  4,\n",
            "        40, 39,  1, 46, 16, 32, 19, 18,  6, 14, 30, 38,  9, 29, 23, 10, 41, 47,\n",
            "        21, 15, 28, 22,  8, 43,  3,  5, 36, 33, 42, 44])\n",
            "average attack mse: 6.315546\n",
            "average random mse: 0.132717\n",
            "-------------------------------------\n",
            "Back propagation attack\t 2-Avg MSE:\t8.363203\n",
            "Random guess attack\t 2-Avg MSE:\t0.128628\n",
            "Accuracy of the original model: tensor(0.0565)\n",
            "Total Time Per Data Point Prediction 0.0006814673969597095\n",
            "See /content/FLinferenceDefence/ESA/FLinferenceDefence/ESA/FLinferenceDefence/ESA/log/drive_unknown_24_expnum_2_20230524054342.csv for more details.\n"
          ]
        }
      ]
    },
    {
      "cell_type": "code",
      "source": [
        "!python main-esa.py --DataFile drive_cleaned.csv --LogFile drive.csv --num_target_features 36 --EnablePREDVEL False --perturbation_level -4 --EnableDP True --DPEpsilon 0.5 --DPDelta 1e-5 --DPSensitivity 0.01"
      ],
      "metadata": {
        "id": "NjO9S5fJRRd0",
        "colab": {
          "base_uri": "https://localhost:8080/"
        },
        "outputId": "56174c54-d426-4885-bf2c-2286c527579e"
      },
      "execution_count": null,
      "outputs": [
        {
          "output_type": "stream",
          "name": "stdout",
          "text": [
            "4.8394512\n",
            "4.93443042\n",
            "4.8394512\n",
            "4.0812896\n",
            "4.495634781250001\n",
            "4.0812896\n",
            "[[-6.3511143, 3.4839284, -2.7563498, -1.5116631, -0.5973612], [-25.316193, -4.519102, 3.646158, 1.0327103, -4.3337975], [-25.366964, -0.5158503, -0.74885315, -5.1572766, 3.500202]]\n",
            "------\n",
            "[[  3.2580903   -6.5769524   -0.3366742   -1.5813609   -2.4956628 ]\n",
            " [ 13.52010332  -7.27698768 -15.44224768 -12.82879998  -7.46229218]\n",
            " [ 14.05146718 -10.79964652 -10.56664367  -6.15822022 -14.81569882]]\n",
            "----------\n",
            "[[  3.36815953  -6.59435294  -0.65270444  -1.56627089  -2.09871816]\n",
            " [ 12.87801367  -7.36615765 -15.46334734 -13.20979679  -5.88003012]\n",
            " [ 13.75402189 -11.40641028 -10.91595603  -6.15297748 -13.23026357]]\n",
            "{'DataFile': 'drive_cleaned.csv', 'LogFile': 'drive.csv', 'n_attacker': 30, 'num_target_features': 36, 'num_exps': 2, 'train_percentage': 0.6, 'test_percentage': 0.2, 'pred_percentage': 0.2, 'enableConfRound': False, 'EnablePREDVEL': True, 'EnableNoising': False, 'EnableDP': True, 'DPEpsilon': 1.0, 'DPDelta': 1e-05, 'DPSensitivity': 0.01, 'roundPrecision': 1, 'StdDevNoising': 0.1, 'epoch_num': 60, 'epochsForClassifier': 60, 'meanLambda': 1.2, 'enableAttackerFeatures': True, 'enableMean': False, 'unknownVarLambda': 0.25, 'perturbation_level': -4.0, 'outputDim': 5, 'modelType': 'NN', 'max_depth': 5, 'min_samples_split': 3, 'min_samples_leaf': 5, 'min_impurity_decrease': 1e-05, 'criterion': 'gini'}\n",
            "dataset: /content/FLinferenceDefence/ESA/FLinferenceDefence/ESA/FLinferenceDefence/datasets/drive_cleaned.csv\n",
            "number of target features: 36\n",
            "number of experimental trials: 2\n",
            "Begin trials\n",
            "-------------------------------------\n",
            "Attack trial 1 / 2\n",
            "Dataset column permutation is: \n",
            " tensor([16, 13, 17,  4, 21, 37, 46, 39,  1,  6, 38, 33, 25, 43, 47, 23, 15, 19,\n",
            "        42,  0,  7,  5,  8, 27, 18, 10, 12,  3, 14, 29, 31, 40, 41, 24, 36, 35,\n",
            "        11,  9,  2, 45, 26, 30, 22, 28, 32, 34, 20, 44])\n",
            "/usr/local/lib/python3.10/dist-packages/torch/nn/modules/container.py:217: UserWarning: Implicit dimension choice for softmax has been deprecated. Change the call to include dim=X as an argument.\n",
            "  input = module(input)\n",
            "average attack mse: 4.148529\n",
            "average random mse: 0.120199\n",
            "-------------------------------------\n",
            "Attack trial 2 / 2\n",
            "Dataset column permutation is: \n",
            " tensor([20, 21, 32,  5, 45, 46, 29,  8, 27, 37, 18, 42, 30,  7,  2,  1, 12, 33,\n",
            "        22, 13, 34,  3, 35, 36, 44, 24, 14,  9, 31, 43,  0, 16, 25, 47, 15,  6,\n",
            "        26, 17, 28, 19, 40, 23, 39, 10, 41,  4, 38, 11])\n",
            "average attack mse: 4.358970\n",
            "average random mse: 0.146336\n",
            "-------------------------------------\n",
            "Back propagation attack\t 2-Avg MSE:\t4.253749\n",
            "Random guess attack\t 2-Avg MSE:\t0.133268\n",
            "Accuracy of the original model: tensor(0.0898)\n",
            "Total Time Per Data Point Prediction 0.0007104039263515409\n",
            "See /content/FLinferenceDefence/ESA/FLinferenceDefence/ESA/FLinferenceDefence/ESA/log/drive_unknown_36_expnum_2_20230524054539.csv for more details.\n"
          ]
        }
      ]
    },
    {
      "cell_type": "markdown",
      "source": [
        "# PETER ESA -4 DP 0.5"
      ],
      "metadata": {
        "id": "51QitB87tvAk"
      }
    },
    {
      "cell_type": "code",
      "source": [
        "!python main-esa.py --DataFile news_cleaned.csv --LogFile news.csv --num_target_features 14 --EnablePREDVEL True --perturbation_level -4 --EnableDP True --DPEpsilon 0.5 --DPDelta 1e-5 --DPSensitivity 0.01"
      ],
      "metadata": {
        "id": "4yyxfL3mQz1e",
        "colab": {
          "base_uri": "https://localhost:8080/"
        },
        "outputId": "6e546147-bf38-4e05-fa38-c2a2b449872c"
      },
      "execution_count": null,
      "outputs": [
        {
          "output_type": "stream",
          "name": "stdout",
          "text": [
            "4.8394512\n",
            "5.065751698750001\n",
            "4.8394512\n",
            "4.0812896\n",
            "4.148234525\n",
            "4.0812896\n",
            "[[-6.3511143, 3.4839284, -2.7563498, -1.5116631, -0.5973612], [-25.316193, -4.519102, 3.646158, 1.0327103, -4.3337975], [-25.366964, -0.5158503, -0.74885315, -5.1572766, 3.500202]]\n",
            "------\n",
            "[[  3.2580903   -6.5769524   -0.3366742   -1.5813609   -2.4956628 ]\n",
            " [ 13.52010332  -7.27698768 -15.44224768 -12.82879998  -7.46229218]\n",
            " [ 14.05146718 -10.79964652 -10.56664367  -6.15822022 -14.81569882]]\n",
            "----------\n",
            "[[  3.63776687  -6.54941838  -0.60776989  -1.42798483  -2.40118386]\n",
            " [ 15.05018999  -7.00412826 -15.10131795 -13.04377598  -7.52683657]\n",
            " [ 15.6003802  -11.0986839  -10.60822965  -6.17588286 -14.49336903]]\n",
            "{'DataFile': 'news_cleaned.csv', 'LogFile': 'news.csv', 'n_attacker': 30, 'num_target_features': 14, 'num_exps': 2, 'train_percentage': 0.6, 'test_percentage': 0.2, 'pred_percentage': 0.2, 'enableConfRound': False, 'EnablePREDVEL': True, 'EnableNoising': False, 'EnableDP': True, 'DPEpsilon': 1.0, 'DPDelta': 1e-05, 'DPSensitivity': 0.001, 'roundPrecision': 1, 'StdDevNoising': 0.1, 'epoch_num': 60, 'epochsForClassifier': 60, 'meanLambda': 1.2, 'enableAttackerFeatures': True, 'enableMean': False, 'unknownVarLambda': 0.25, 'perturbation_level': -4.0, 'outputDim': 5, 'modelType': 'NN', 'max_depth': 5, 'min_samples_split': 3, 'min_samples_leaf': 5, 'min_impurity_decrease': 1e-05, 'criterion': 'gini'}\n",
            "dataset: /content/FLinferenceDefence/ESA/FLinferenceDefence/ESA/FLinferenceDefence/datasets/news_cleaned.csv\n",
            "number of target features: 14\n",
            "number of experimental trials: 2\n",
            "Begin trials\n",
            "-------------------------------------\n",
            "Attack trial 1 / 2\n",
            "Dataset column permutation is: \n",
            " tensor([13, 43, 18, 48,  1, 47,  8, 45, 56, 53, 44, 24, 40, 15, 16,  7, 50, 10,\n",
            "        20, 25, 29, 49, 17, 21, 35, 31, 27, 38, 14, 26, 57, 37, 46, 30, 51,  2,\n",
            "        32, 36, 52, 42,  4, 19, 54, 41,  5, 23, 28,  0, 55, 33,  9, 12,  3, 11,\n",
            "         6, 58, 22, 34, 39])\n",
            "/usr/local/lib/python3.10/dist-packages/torch/nn/modules/container.py:217: UserWarning: Implicit dimension choice for softmax has been deprecated. Change the call to include dim=X as an argument.\n",
            "  input = module(input)\n",
            "average attack mse: 11.188597\n",
            "average random mse: 0.233041\n",
            "-------------------------------------\n",
            "Attack trial 2 / 2\n",
            "Dataset column permutation is: \n",
            " tensor([44, 34,  0, 35, 10, 54, 33, 24, 18,  1, 13, 50, 15,  6, 56, 42, 52,  4,\n",
            "        27,  5, 16,  3, 57, 17, 36,  2, 32,  9, 43, 38, 51, 25, 37,  8, 20, 40,\n",
            "        46, 22, 53, 12, 31, 14, 11, 28, 55, 49, 26, 48,  7, 41, 21, 23, 58, 29,\n",
            "        45, 47, 39, 30, 19])\n",
            "average attack mse: 16.857237\n",
            "average random mse: 0.200642\n",
            "-------------------------------------\n",
            "Back propagation attack\t 2-Avg MSE:\t14.022917\n",
            "Random guess attack\t 2-Avg MSE:\t0.216841\n",
            "Accuracy of the original model: tensor(0.0928)\n",
            "Total Time Per Data Point Prediction 0.000506946916657187\n",
            "See /content/FLinferenceDefence/ESA/FLinferenceDefence/ESA/FLinferenceDefence/ESA/log/news_unknown_14_expnum_2_20230524054737.csv for more details.\n"
          ]
        }
      ]
    },
    {
      "cell_type": "code",
      "source": [
        "!python main-esa.py --DataFile news_cleaned.csv --LogFile news.csv --num_target_features 29 --EnablePREDVEL True --perturbation_level -4 --EnableDP True --DPEpsilon 0.5 --DPDelta 1e-5 --DPSensitivity 0.01"
      ],
      "metadata": {
        "id": "X4JYx9PJQar7",
        "colab": {
          "base_uri": "https://localhost:8080/"
        },
        "outputId": "c91dbd15-41c6-4dbb-8fba-db57c0a72f70"
      },
      "execution_count": null,
      "outputs": [
        {
          "output_type": "stream",
          "name": "stdout",
          "text": [
            "4.8394512\n",
            "4.69471335625\n",
            "4.8394512\n",
            "4.0812896\n",
            "4.45404949625\n",
            "4.0812896\n",
            "[[-6.3511143, 3.4839284, -2.7563498, -1.5116631, -0.5973612], [-25.316193, -4.519102, 3.646158, 1.0327103, -4.3337975], [-25.366964, -0.5158503, -0.74885315, -5.1572766, 3.500202]]\n",
            "------\n",
            "[[  3.2580903   -6.5769524   -0.3366742   -1.5813609   -2.4956628 ]\n",
            " [ 13.52010332  -7.27698768 -15.44224768 -12.82879998  -7.46229218]\n",
            " [ 14.05146718 -10.79964652 -10.56664367  -6.15822022 -14.81569882]]\n",
            "----------\n",
            "[[  3.20623539  -6.55276765  -0.66826303  -1.48847797  -2.09871816]\n",
            " [ 13.47651033  -7.66889629 -15.43067924 -13.37313727  -5.88003012]\n",
            " [ 13.43534275 -10.81021258 -10.86085074  -6.42850395 -13.23026357]]\n",
            "{'DataFile': 'news_cleaned.csv', 'LogFile': 'news.csv', 'n_attacker': 30, 'num_target_features': 29, 'num_exps': 2, 'train_percentage': 0.6, 'test_percentage': 0.2, 'pred_percentage': 0.2, 'enableConfRound': False, 'EnablePREDVEL': True, 'EnableNoising': False, 'EnableDP': True, 'DPEpsilon': 1.0, 'DPDelta': 1e-05, 'DPSensitivity': 0.001, 'roundPrecision': 1, 'StdDevNoising': 0.1, 'epoch_num': 60, 'epochsForClassifier': 60, 'meanLambda': 1.2, 'enableAttackerFeatures': True, 'enableMean': False, 'unknownVarLambda': 0.25, 'perturbation_level': -4.0, 'outputDim': 5, 'modelType': 'NN', 'max_depth': 5, 'min_samples_split': 3, 'min_samples_leaf': 5, 'min_impurity_decrease': 1e-05, 'criterion': 'gini'}\n",
            "dataset: /content/FLinferenceDefence/ESA/FLinferenceDefence/ESA/FLinferenceDefence/datasets/news_cleaned.csv\n",
            "number of target features: 29\n",
            "number of experimental trials: 2\n",
            "Begin trials\n",
            "-------------------------------------\n",
            "Attack trial 1 / 2\n",
            "Dataset column permutation is: \n",
            " tensor([13, 43, 18, 48,  1, 47,  8, 45, 56, 53, 44, 24, 40, 15, 16,  7, 50, 10,\n",
            "        20, 25, 29, 49, 17, 21, 35, 31, 27, 38, 14, 26, 57, 37, 46, 30, 51,  2,\n",
            "        32, 36, 52, 42,  4, 19, 54, 41,  5, 23, 28,  0, 55, 33,  9, 12,  3, 11,\n",
            "         6, 58, 22, 34, 39])\n",
            "/usr/local/lib/python3.10/dist-packages/torch/nn/modules/container.py:217: UserWarning: Implicit dimension choice for softmax has been deprecated. Change the call to include dim=X as an argument.\n",
            "  input = module(input)\n",
            "average attack mse: 2.974263\n",
            "average random mse: 0.237136\n",
            "-------------------------------------\n",
            "Attack trial 2 / 2\n",
            "Dataset column permutation is: \n",
            " tensor([15, 40,  0, 17, 14, 12, 50, 21, 16, 58, 56, 25,  8, 29, 23,  7, 13, 46,\n",
            "        47, 35, 51, 55,  1, 26, 44, 41, 27, 52, 43, 38, 36,  2, 30, 22, 39, 49,\n",
            "        28,  6,  5, 37, 45, 24, 34, 33, 48, 20, 53, 42, 32, 10, 57, 31,  4,  9,\n",
            "        11, 19, 18,  3, 54])\n",
            "average attack mse: 3.452533\n",
            "average random mse: 0.232542\n",
            "-------------------------------------\n",
            "Back propagation attack\t 2-Avg MSE:\t3.213398\n",
            "Random guess attack\t 2-Avg MSE:\t0.234839\n",
            "Accuracy of the original model: tensor(0.0824)\n",
            "Total Time Per Data Point Prediction 0.0005152787257636231\n",
            "See /content/FLinferenceDefence/ESA/FLinferenceDefence/ESA/FLinferenceDefence/ESA/log/news_unknown_29_expnum_2_20230524054854.csv for more details.\n"
          ]
        }
      ]
    },
    {
      "cell_type": "code",
      "source": [
        "!python main-esa.py --DataFile news_cleaned.csv --LogFile news.csv --num_target_features 44 --EnablePREDVEL True --perturbation_level -4 --EnableDP True --DPEpsilon 0.5 --DPDelta 1e-5 --DPSensitivity 0.01"
      ],
      "metadata": {
        "id": "idiX8vVEQ4qu",
        "colab": {
          "base_uri": "https://localhost:8080/"
        },
        "outputId": "2e93c466-546b-4e1e-f30d-b949eac9a69b"
      },
      "execution_count": null,
      "outputs": [
        {
          "output_type": "stream",
          "name": "stdout",
          "text": [
            "4.8394512\n",
            "5.138243592500001\n",
            "4.8394512\n",
            "4.0812896\n",
            "3.674085911250001\n",
            "4.0812896\n",
            "[[-6.3511143, 3.4839284, -2.7563498, -1.5116631, -0.5973612], [-25.316193, -4.519102, 3.646158, 1.0327103, -4.3337975], [-25.366964, -0.5158503, -0.74885315, -5.1572766, 3.500202]]\n",
            "------\n",
            "[[  3.2580903   -6.5769524   -0.3366742   -1.5813609   -2.4956628 ]\n",
            " [ 13.52010332  -7.27698768 -15.44224768 -12.82879998  -7.46229218]\n",
            " [ 14.05146718 -10.79964652 -10.56664367  -6.15822022 -14.81569882]]\n",
            "----------\n",
            "[[  3.63776687  -6.38749424  -0.20611317  -1.50047672  -2.71340833]\n",
            " [ 15.05018999  -7.60262492 -15.61745332 -12.61442641  -7.1798483 ]\n",
            " [ 15.6003802  -10.78000476 -10.20700949  -6.38343097 -14.78345818]]\n",
            "{'DataFile': 'news_cleaned.csv', 'LogFile': 'news.csv', 'n_attacker': 30, 'num_target_features': 44, 'num_exps': 2, 'train_percentage': 0.6, 'test_percentage': 0.2, 'pred_percentage': 0.2, 'enableConfRound': False, 'EnablePREDVEL': True, 'EnableNoising': False, 'EnableDP': True, 'DPEpsilon': 1.0, 'DPDelta': 1e-05, 'DPSensitivity': 0.001, 'roundPrecision': 1, 'StdDevNoising': 0.1, 'epoch_num': 60, 'epochsForClassifier': 60, 'meanLambda': 1.2, 'enableAttackerFeatures': True, 'enableMean': False, 'unknownVarLambda': 0.25, 'perturbation_level': -4.0, 'outputDim': 5, 'modelType': 'NN', 'max_depth': 5, 'min_samples_split': 3, 'min_samples_leaf': 5, 'min_impurity_decrease': 1e-05, 'criterion': 'gini'}\n",
            "dataset: /content/FLinferenceDefence/ESA/FLinferenceDefence/ESA/FLinferenceDefence/ESA/FLinferenceDefence/datasets/news_cleaned.csv\n",
            "number of target features: 44\n",
            "number of experimental trials: 2\n",
            "Begin trials\n",
            "-------------------------------------\n",
            "Attack trial 1 / 2\n",
            "Dataset column permutation is: \n",
            " tensor([13, 43, 18, 48,  1, 47,  8, 45, 56, 53, 44, 24, 40, 15, 16,  7, 50, 10,\n",
            "        20, 25, 29, 49, 17, 21, 35, 31, 27, 38, 14, 26, 57, 37, 46, 30, 51,  2,\n",
            "        32, 36, 52, 42,  4, 19, 54, 41,  5, 23, 28,  0, 55, 33,  9, 12,  3, 11,\n",
            "         6, 58, 22, 34, 39])\n",
            "/usr/local/lib/python3.10/dist-packages/torch/nn/modules/container.py:217: UserWarning: Implicit dimension choice for softmax has been deprecated. Change the call to include dim=X as an argument.\n",
            "  input = module(input)\n",
            "average attack mse: 1.391786\n",
            "average random mse: 0.239427\n",
            "-------------------------------------\n",
            "Attack trial 2 / 2\n",
            "Dataset column permutation is: \n",
            " tensor([51, 31, 37, 40, 45, 53,  7, 55, 27,  4, 57,  6, 10,  1, 33, 44, 19,  2,\n",
            "        22, 18,  8, 34,  9, 26, 38, 16, 46, 54, 12, 42, 36, 17, 21, 47,  0, 15,\n",
            "        32, 14, 48, 23, 58, 20,  5, 39, 24, 50, 25, 13, 41, 49, 56, 43, 28, 35,\n",
            "        11, 30, 52, 29,  3])\n",
            "average attack mse: 1.404222\n",
            "average random mse: 0.224805\n",
            "-------------------------------------\n",
            "Back propagation attack\t 2-Avg MSE:\t1.398004\n",
            "Random guess attack\t 2-Avg MSE:\t0.232116\n",
            "Accuracy of the original model: tensor(0.1206)\n",
            "Total Time Per Data Point Prediction 0.0004758854085573876\n",
            "See /content/FLinferenceDefence/ESA/FLinferenceDefence/ESA/FLinferenceDefence/ESA/FLinferenceDefence/ESA/log/news_unknown_44_expnum_2_20230524062156.csv for more details.\n"
          ]
        }
      ]
    },
    {
      "cell_type": "code",
      "source": [
        "!python main-esa.py --DataFile drive_cleaned.csv --LogFile drive.csv --num_target_features 12 --EnablePREDVEL True --perturbation_level -4 --EnableDP True --DPEpsilon 0.5 --DPDelta 1e-5 --DPSensitivity 0.01"
      ],
      "metadata": {
        "id": "4x7M-KAiRDNd",
        "colab": {
          "base_uri": "https://localhost:8080/"
        },
        "outputId": "d989471d-19a3-427a-d530-81d139d8fc10"
      },
      "execution_count": null,
      "outputs": [
        {
          "output_type": "stream",
          "name": "stdout",
          "text": [
            "4.8394512\n",
            "5.02423760375\n",
            "4.8394512\n",
            "4.0812896\n",
            "3.7886249562499996\n",
            "4.0812896\n",
            "[[-6.3511143, 3.4839284, -2.7563498, -1.5116631, -0.5973612], [-25.316193, -4.519102, 3.646158, 1.0327103, -4.3337975], [-25.366964, -0.5158503, -0.74885315, -5.1572766, 3.500202]]\n",
            "------\n",
            "[[  3.2580903   -6.5769524   -0.3366742   -1.5813609   -2.4956628 ]\n",
            " [ 13.52010332  -7.27698768 -15.44224768 -12.82879998  -7.46229218]\n",
            " [ 14.05146718 -10.79964652 -10.56664367  -6.15822022 -14.81569882]]\n",
            "----------\n",
            "[[  3.20623539  -6.18980881  -0.13974902  -1.81800221  -2.40118386]\n",
            " [ 13.47651033  -5.69272854 -15.71371245 -12.53344723  -7.52683657]\n",
            " [ 13.43534275  -9.29448602 -10.59075443  -6.19044553 -14.49336903]]\n",
            "{'DataFile': 'drive_cleaned.csv', 'LogFile': 'drive.csv', 'n_attacker': 30, 'num_target_features': 12, 'num_exps': 2, 'train_percentage': 0.6, 'test_percentage': 0.2, 'pred_percentage': 0.2, 'enableConfRound': False, 'EnablePREDVEL': True, 'EnableNoising': False, 'EnableDP': True, 'DPEpsilon': 1.0, 'DPDelta': 1e-05, 'DPSensitivity': 0.001, 'roundPrecision': 1, 'StdDevNoising': 0.1, 'epoch_num': 60, 'epochsForClassifier': 60, 'meanLambda': 1.2, 'enableAttackerFeatures': True, 'enableMean': False, 'unknownVarLambda': 0.25, 'perturbation_level': -4.0, 'outputDim': 5, 'modelType': 'NN', 'max_depth': 5, 'min_samples_split': 3, 'min_samples_leaf': 5, 'min_impurity_decrease': 1e-05, 'criterion': 'gini'}\n",
            "dataset: /content/FLinferenceDefence/ESA/FLinferenceDefence/ESA/FLinferenceDefence/ESA/FLinferenceDefence/datasets/drive_cleaned.csv\n",
            "number of target features: 12\n",
            "number of experimental trials: 2\n",
            "Begin trials\n",
            "-------------------------------------\n",
            "Attack trial 1 / 2\n",
            "Dataset column permutation is: \n",
            " tensor([16, 13, 17,  4, 21, 37, 46, 39,  1,  6, 38, 33, 25, 43, 47, 23, 15, 19,\n",
            "        42,  0,  7,  5,  8, 27, 18, 10, 12,  3, 14, 29, 31, 40, 41, 24, 36, 35,\n",
            "        11,  9,  2, 45, 26, 30, 22, 28, 32, 34, 20, 44])\n",
            "/usr/local/lib/python3.10/dist-packages/torch/nn/modules/container.py:217: UserWarning: Implicit dimension choice for softmax has been deprecated. Change the call to include dim=X as an argument.\n",
            "  input = module(input)\n",
            "average attack mse: 101.032295\n",
            "average random mse: 0.083033\n",
            "-------------------------------------\n",
            "Attack trial 2 / 2\n",
            "Dataset column permutation is: \n",
            " tensor([18, 27,  5, 47,  9, 34, 11, 39, 17, 26, 24, 19,  7,  4,  0, 13, 33, 14,\n",
            "        36, 32, 45, 41, 30,  8, 28, 40, 22, 20,  6,  3, 12,  1, 23, 46, 29, 15,\n",
            "         2, 35, 10, 21, 43, 25, 31, 44, 16, 37, 42, 38])\n",
            "average attack mse: 48.508888\n",
            "average random mse: 0.122329\n",
            "-------------------------------------\n",
            "Back propagation attack\t 2-Avg MSE:\t74.770592\n",
            "Random guess attack\t 2-Avg MSE:\t0.102681\n",
            "Accuracy of the original model: tensor(0.0865)\n",
            "Total Time Per Data Point Prediction 0.000638671007312044\n",
            "See /content/FLinferenceDefence/ESA/FLinferenceDefence/ESA/FLinferenceDefence/ESA/FLinferenceDefence/ESA/log/drive_unknown_12_expnum_2_20230524062308.csv for more details.\n"
          ]
        }
      ]
    },
    {
      "cell_type": "code",
      "source": [
        "!python main-esa.py --DataFile drive_cleaned.csv --LogFile drive.csv --num_target_features 24 --EnablePREDVEL True --perturbation_level -4 --EnableDP True --DPEpsilon 0.5 --DPDelta 1e-5 --DPSensitivity 0.01"
      ],
      "metadata": {
        "id": "ZLqBBGgHQiQl",
        "colab": {
          "base_uri": "https://localhost:8080/"
        },
        "outputId": "b4e0ccf3-cec8-4e4f-96c1-7aa50fd141be"
      },
      "execution_count": null,
      "outputs": [
        {
          "output_type": "stream",
          "name": "stdout",
          "text": [
            "4.8394512\n",
            "5.0813814725\n",
            "4.8394512\n",
            "4.0812896\n",
            "3.7200523137499997\n",
            "4.0812896\n",
            "[[-6.3511143, 3.4839284, -2.7563498, -1.5116631, -0.5973612], [-25.316193, -4.519102, 3.646158, 1.0327103, -4.3337975], [-25.366964, -0.5158503, -0.74885315, -5.1572766, 3.500202]]\n",
            "------\n",
            "[[  3.2580903   -6.5769524   -0.3366742   -1.5813609   -2.4956628 ]\n",
            " [ 13.52010332  -7.27698768 -15.44224768 -12.82879998  -7.46229218]\n",
            " [ 14.05146718 -10.79964652 -10.56664367  -6.15822022 -14.81569882]]\n",
            "----------\n",
            "[[  3.27480803  -6.17838004  -0.12832025  -1.80657344  -2.45832773]\n",
            " [ 13.07402225  -5.75980989 -15.7807938  -12.60052857  -7.19142984]\n",
            " [ 14.08465365  -9.18626754 -10.48253595  -6.08222705 -15.03446145]]\n",
            "{'DataFile': 'drive_cleaned.csv', 'LogFile': 'drive.csv', 'n_attacker': 30, 'num_target_features': 24, 'num_exps': 2, 'train_percentage': 0.6, 'test_percentage': 0.2, 'pred_percentage': 0.2, 'enableConfRound': False, 'EnablePREDVEL': True, 'EnableNoising': False, 'EnableDP': True, 'DPEpsilon': 1.0, 'DPDelta': 1e-05, 'DPSensitivity': 0.001, 'roundPrecision': 1, 'StdDevNoising': 0.1, 'epoch_num': 60, 'epochsForClassifier': 60, 'meanLambda': 1.2, 'enableAttackerFeatures': True, 'enableMean': False, 'unknownVarLambda': 0.25, 'perturbation_level': -4.0, 'outputDim': 5, 'modelType': 'NN', 'max_depth': 5, 'min_samples_split': 3, 'min_samples_leaf': 5, 'min_impurity_decrease': 1e-05, 'criterion': 'gini'}\n",
            "dataset: /content/FLinferenceDefence/ESA/FLinferenceDefence/ESA/FLinferenceDefence/ESA/FLinferenceDefence/datasets/drive_cleaned.csv\n",
            "number of target features: 24\n",
            "number of experimental trials: 2\n",
            "Begin trials\n",
            "-------------------------------------\n",
            "Attack trial 1 / 2\n",
            "Dataset column permutation is: \n",
            " tensor([16, 13, 17,  4, 21, 37, 46, 39,  1,  6, 38, 33, 25, 43, 47, 23, 15, 19,\n",
            "        42,  0,  7,  5,  8, 27, 18, 10, 12,  3, 14, 29, 31, 40, 41, 24, 36, 35,\n",
            "        11,  9,  2, 45, 26, 30, 22, 28, 32, 34, 20, 44])\n",
            "/usr/local/lib/python3.10/dist-packages/torch/nn/modules/container.py:217: UserWarning: Implicit dimension choice for softmax has been deprecated. Change the call to include dim=X as an argument.\n",
            "  input = module(input)\n",
            "average attack mse: 10.410860\n",
            "average random mse: 0.124539\n",
            "-------------------------------------\n",
            "Attack trial 2 / 2\n",
            "Dataset column permutation is: \n",
            " tensor([34, 24, 45,  7, 20, 26,  0, 27, 12, 31,  2, 17, 35, 25, 13, 37, 11,  4,\n",
            "        40, 39,  1, 46, 16, 32, 19, 18,  6, 14, 30, 38,  9, 29, 23, 10, 41, 47,\n",
            "        21, 15, 28, 22,  8, 43,  3,  5, 36, 33, 42, 44])\n",
            "average attack mse: 6.315546\n",
            "average random mse: 0.132717\n",
            "-------------------------------------\n",
            "Back propagation attack\t 2-Avg MSE:\t8.363203\n",
            "Random guess attack\t 2-Avg MSE:\t0.128628\n",
            "Accuracy of the original model: tensor(0.0565)\n",
            "Total Time Per Data Point Prediction 0.000645649697004083\n",
            "See /content/FLinferenceDefence/ESA/FLinferenceDefence/ESA/FLinferenceDefence/ESA/FLinferenceDefence/ESA/log/drive_unknown_24_expnum_2_20230524062501.csv for more details.\n"
          ]
        }
      ]
    },
    {
      "cell_type": "code",
      "source": [
        "!python main-esa.py --DataFile drive_cleaned.csv --LogFile drive.csv --num_target_features 36 --EnablePREDVEL True --perturbation_level -4 --EnableDP True --DPEpsilon 0.5 --DPDelta 1e-5 --DPSensitivity 0.01"
      ],
      "metadata": {
        "id": "ROz1pGk5REJ2",
        "colab": {
          "base_uri": "https://localhost:8080/"
        },
        "outputId": "329bb6be-ff7b-4ef4-d426-72b8d9ec0c45"
      },
      "execution_count": null,
      "outputs": [
        {
          "output_type": "stream",
          "name": "stdout",
          "text": [
            "4.8394512\n",
            "5.081099723750001\n",
            "4.8394512\n",
            "4.0812896\n",
            "3.8360100562500006\n",
            "4.0812896\n",
            "[[-6.3511143, 3.4839284, -2.7563498, -1.5116631, -0.5973612], [-25.316193, -4.519102, 3.646158, 1.0327103, -4.3337975], [-25.366964, -0.5158503, -0.74885315, -5.1572766, 3.500202]]\n",
            "------\n",
            "[[  3.2580903   -6.5769524   -0.3366742   -1.5813609   -2.4956628 ]\n",
            " [ 13.52010332  -7.27698768 -15.44224768 -12.82879998  -7.46229218]\n",
            " [ 14.05146718 -10.79964652 -10.56664367  -6.15822022 -14.81569882]]\n",
            "----------\n",
            "[[  3.63776687  -6.54941838  -0.13974902  -1.44333285  -2.71340833]\n",
            " [ 15.05018999  -7.00412826 -15.71371245 -12.94983315  -7.1798483 ]\n",
            " [ 15.6003802  -11.0986839  -10.59075443  -5.84233856 -14.78345818]]\n",
            "{'DataFile': 'drive_cleaned.csv', 'LogFile': 'drive.csv', 'n_attacker': 30, 'num_target_features': 36, 'num_exps': 2, 'train_percentage': 0.6, 'test_percentage': 0.2, 'pred_percentage': 0.2, 'enableConfRound': False, 'EnablePREDVEL': True, 'EnableNoising': False, 'EnableDP': True, 'DPEpsilon': 1.0, 'DPDelta': 1e-05, 'DPSensitivity': 0.001, 'roundPrecision': 1, 'StdDevNoising': 0.1, 'epoch_num': 60, 'epochsForClassifier': 60, 'meanLambda': 1.2, 'enableAttackerFeatures': True, 'enableMean': False, 'unknownVarLambda': 0.25, 'perturbation_level': -4.0, 'outputDim': 5, 'modelType': 'NN', 'max_depth': 5, 'min_samples_split': 3, 'min_samples_leaf': 5, 'min_impurity_decrease': 1e-05, 'criterion': 'gini'}\n",
            "dataset: /content/FLinferenceDefence/ESA/FLinferenceDefence/ESA/FLinferenceDefence/ESA/FLinferenceDefence/datasets/drive_cleaned.csv\n",
            "number of target features: 36\n",
            "number of experimental trials: 2\n",
            "Begin trials\n",
            "-------------------------------------\n",
            "Attack trial 1 / 2\n",
            "Dataset column permutation is: \n",
            " tensor([16, 13, 17,  4, 21, 37, 46, 39,  1,  6, 38, 33, 25, 43, 47, 23, 15, 19,\n",
            "        42,  0,  7,  5,  8, 27, 18, 10, 12,  3, 14, 29, 31, 40, 41, 24, 36, 35,\n",
            "        11,  9,  2, 45, 26, 30, 22, 28, 32, 34, 20, 44])\n",
            "/usr/local/lib/python3.10/dist-packages/torch/nn/modules/container.py:217: UserWarning: Implicit dimension choice for softmax has been deprecated. Change the call to include dim=X as an argument.\n",
            "  input = module(input)\n",
            "average attack mse: 4.148529\n",
            "average random mse: 0.120199\n",
            "-------------------------------------\n",
            "Attack trial 2 / 2\n",
            "Dataset column permutation is: \n",
            " tensor([20, 21, 32,  5, 45, 46, 29,  8, 27, 37, 18, 42, 30,  7,  2,  1, 12, 33,\n",
            "        22, 13, 34,  3, 35, 36, 44, 24, 14,  9, 31, 43,  0, 16, 25, 47, 15,  6,\n",
            "        26, 17, 28, 19, 40, 23, 39, 10, 41,  4, 38, 11])\n",
            "average attack mse: 4.358970\n",
            "average random mse: 0.146336\n",
            "-------------------------------------\n",
            "Back propagation attack\t 2-Avg MSE:\t4.253749\n",
            "Random guess attack\t 2-Avg MSE:\t0.133268\n",
            "Accuracy of the original model: tensor(0.0898)\n",
            "Total Time Per Data Point Prediction 0.0006626140927669381\n",
            "See /content/FLinferenceDefence/ESA/FLinferenceDefence/ESA/FLinferenceDefence/ESA/FLinferenceDefence/ESA/log/drive_unknown_36_expnum_2_20230524062651.csv for more details.\n"
          ]
        }
      ]
    },
    {
      "cell_type": "markdown",
      "source": [
        "# DP 0.1"
      ],
      "metadata": {
        "id": "O0nNSClw1L7C"
      }
    },
    {
      "cell_type": "code",
      "source": [
        "!python main-esa.py --DataFile news_cleaned.csv --LogFile news.csv --num_target_features 14 --EnablePREDVEL False --perturbation_level -4 --EnableDP True --DPEpsilon 0.1 --DPDelta 1e-5 --DPSensitivity 0.01"
      ],
      "metadata": {
        "id": "wIyUUuQRQKM-",
        "colab": {
          "base_uri": "https://localhost:8080/"
        },
        "outputId": "5eaee23a-59f4-409e-dd86-e535dc47bd2f"
      },
      "execution_count": null,
      "outputs": [
        {
          "output_type": "stream",
          "name": "stdout",
          "text": [
            "4.8394512\n",
            "5.138243592500001\n",
            "4.8394512\n",
            "4.0812896\n",
            "3.674085911250001\n",
            "4.0812896\n",
            "[[-6.3511143, 3.4839284, -2.7563498, -1.5116631, -0.5973612], [-25.316193, -4.519102, 3.646158, 1.0327103, -4.3337975], [-25.366964, -0.5158503, -0.74885315, -5.1572766, 3.500202]]\n",
            "------\n",
            "[[  3.2580903   -6.5769524   -0.3366742   -1.5813609   -2.4956628 ]\n",
            " [ 13.52010332  -7.27698768 -15.44224768 -12.82879998  -7.46229218]\n",
            " [ 14.05146718 -10.79964652 -10.56664367  -6.15822022 -14.81569882]]\n",
            "----------\n",
            "[[  3.63776687  -6.38749424  -0.20611317  -1.50047672  -2.71340833]\n",
            " [ 15.05018999  -7.60262492 -15.61745332 -12.61442641  -7.1798483 ]\n",
            " [ 15.6003802  -10.78000476 -10.20700949  -6.38343097 -14.78345818]]\n",
            "{'DataFile': 'news_cleaned.csv', 'LogFile': 'news.csv', 'n_attacker': 30, 'num_target_features': 14, 'num_exps': 2, 'train_percentage': 0.6, 'test_percentage': 0.2, 'pred_percentage': 0.2, 'enableConfRound': False, 'EnablePREDVEL': True, 'EnableNoising': False, 'EnableDP': True, 'DPEpsilon': 1.0, 'DPDelta': 1e-05, 'DPSensitivity': 0.001, 'roundPrecision': 1, 'StdDevNoising': 0.1, 'epoch_num': 60, 'epochsForClassifier': 60, 'meanLambda': 1.2, 'enableAttackerFeatures': True, 'enableMean': False, 'unknownVarLambda': 0.25, 'perturbation_level': -4.0, 'outputDim': 5, 'modelType': 'NN', 'max_depth': 5, 'min_samples_split': 3, 'min_samples_leaf': 5, 'min_impurity_decrease': 1e-05, 'criterion': 'gini'}\n",
            "dataset: /content/FLinferenceDefence/ESA/FLinferenceDefence/ESA/FLinferenceDefence/ESA/FLinferenceDefence/datasets/news_cleaned.csv\n",
            "number of target features: 14\n",
            "number of experimental trials: 2\n",
            "Begin trials\n",
            "-------------------------------------\n",
            "Attack trial 1 / 2\n",
            "Dataset column permutation is: \n",
            " tensor([13, 43, 18, 48,  1, 47,  8, 45, 56, 53, 44, 24, 40, 15, 16,  7, 50, 10,\n",
            "        20, 25, 29, 49, 17, 21, 35, 31, 27, 38, 14, 26, 57, 37, 46, 30, 51,  2,\n",
            "        32, 36, 52, 42,  4, 19, 54, 41,  5, 23, 28,  0, 55, 33,  9, 12,  3, 11,\n",
            "         6, 58, 22, 34, 39])\n",
            "/usr/local/lib/python3.10/dist-packages/torch/nn/modules/container.py:217: UserWarning: Implicit dimension choice for softmax has been deprecated. Change the call to include dim=X as an argument.\n",
            "  input = module(input)\n",
            "average attack mse: 11.188597\n",
            "average random mse: 0.233041\n",
            "-------------------------------------\n",
            "Attack trial 2 / 2\n",
            "Dataset column permutation is: \n",
            " tensor([44, 34,  0, 35, 10, 54, 33, 24, 18,  1, 13, 50, 15,  6, 56, 42, 52,  4,\n",
            "        27,  5, 16,  3, 57, 17, 36,  2, 32,  9, 43, 38, 51, 25, 37,  8, 20, 40,\n",
            "        46, 22, 53, 12, 31, 14, 11, 28, 55, 49, 26, 48,  7, 41, 21, 23, 58, 29,\n",
            "        45, 47, 39, 30, 19])\n",
            "average attack mse: 16.857237\n",
            "average random mse: 0.200642\n",
            "-------------------------------------\n",
            "Back propagation attack\t 2-Avg MSE:\t14.022917\n",
            "Random guess attack\t 2-Avg MSE:\t0.216841\n",
            "Accuracy of the original model: tensor(0.0928)\n",
            "Total Time Per Data Point Prediction 0.0004821027864962365\n",
            "See /content/FLinferenceDefence/ESA/FLinferenceDefence/ESA/FLinferenceDefence/ESA/FLinferenceDefence/ESA/log/news_unknown_14_expnum_2_20230524062844.csv for more details.\n"
          ]
        }
      ]
    },
    {
      "cell_type": "code",
      "source": [
        "!python main-esa.py --DataFile news_cleaned.csv --LogFile news.csv --num_target_features 29 --EnablePREDVEL False --perturbation_level -4 --EnableDP True --DPEpsilon 0.1 --DPDelta 1e-5 --DPSensitivity 0.01"
      ],
      "metadata": {
        "colab": {
          "base_uri": "https://localhost:8080/"
        },
        "id": "dI6Xb0wBOC2P",
        "outputId": "ee11902e-96ab-46f8-c26d-dc052ac4f15d"
      },
      "execution_count": null,
      "outputs": [
        {
          "output_type": "stream",
          "name": "stdout",
          "text": [
            "4.8394512\n",
            "5.138243592500001\n",
            "4.8394512\n",
            "4.0812896\n",
            "3.674085911250001\n",
            "4.0812896\n",
            "[[-6.3511143, 3.4839284, -2.7563498, -1.5116631, -0.5973612], [-25.316193, -4.519102, 3.646158, 1.0327103, -4.3337975], [-25.366964, -0.5158503, -0.74885315, -5.1572766, 3.500202]]\n",
            "------\n",
            "[[  3.2580903   -6.5769524   -0.3366742   -1.5813609   -2.4956628 ]\n",
            " [ 13.52010332  -7.27698768 -15.44224768 -12.82879998  -7.46229218]\n",
            " [ 14.05146718 -10.79964652 -10.56664367  -6.15822022 -14.81569882]]\n",
            "----------\n",
            "[[  3.63776687  -6.38749424  -0.20611317  -1.50047672  -2.71340833]\n",
            " [ 15.05018999  -7.60262492 -15.61745332 -12.61442641  -7.1798483 ]\n",
            " [ 15.6003802  -10.78000476 -10.20700949  -6.38343097 -14.78345818]]\n",
            "{'DataFile': 'news_cleaned.csv', 'LogFile': 'news.csv', 'n_attacker': 30, 'num_target_features': 29, 'num_exps': 2, 'train_percentage': 0.6, 'test_percentage': 0.2, 'pred_percentage': 0.2, 'enableConfRound': False, 'EnablePREDVEL': True, 'EnableNoising': False, 'EnableDP': True, 'DPEpsilon': 1.0, 'DPDelta': 1e-05, 'DPSensitivity': 0.001, 'roundPrecision': 1, 'StdDevNoising': 0.1, 'epoch_num': 60, 'epochsForClassifier': 60, 'meanLambda': 1.2, 'enableAttackerFeatures': True, 'enableMean': False, 'unknownVarLambda': 0.25, 'perturbation_level': -4.0, 'outputDim': 5, 'modelType': 'NN', 'max_depth': 5, 'min_samples_split': 3, 'min_samples_leaf': 5, 'min_impurity_decrease': 1e-05, 'criterion': 'gini'}\n",
            "dataset: /content/FLinferenceDefence/ESA/FLinferenceDefence/ESA/FLinferenceDefence/ESA/FLinferenceDefence/datasets/news_cleaned.csv\n",
            "number of target features: 29\n",
            "number of experimental trials: 2\n",
            "Begin trials\n",
            "-------------------------------------\n",
            "Attack trial 1 / 2\n",
            "Dataset column permutation is: \n",
            " tensor([13, 43, 18, 48,  1, 47,  8, 45, 56, 53, 44, 24, 40, 15, 16,  7, 50, 10,\n",
            "        20, 25, 29, 49, 17, 21, 35, 31, 27, 38, 14, 26, 57, 37, 46, 30, 51,  2,\n",
            "        32, 36, 52, 42,  4, 19, 54, 41,  5, 23, 28,  0, 55, 33,  9, 12,  3, 11,\n",
            "         6, 58, 22, 34, 39])\n",
            "/usr/local/lib/python3.10/dist-packages/torch/nn/modules/container.py:217: UserWarning: Implicit dimension choice for softmax has been deprecated. Change the call to include dim=X as an argument.\n",
            "  input = module(input)\n",
            "average attack mse: 2.974263\n",
            "average random mse: 0.237136\n",
            "-------------------------------------\n",
            "Attack trial 2 / 2\n",
            "Dataset column permutation is: \n",
            " tensor([15, 40,  0, 17, 14, 12, 50, 21, 16, 58, 56, 25,  8, 29, 23,  7, 13, 46,\n",
            "        47, 35, 51, 55,  1, 26, 44, 41, 27, 52, 43, 38, 36,  2, 30, 22, 39, 49,\n",
            "        28,  6,  5, 37, 45, 24, 34, 33, 48, 20, 53, 42, 32, 10, 57, 31,  4,  9,\n",
            "        11, 19, 18,  3, 54])\n",
            "average attack mse: 3.452533\n",
            "average random mse: 0.232542\n",
            "-------------------------------------\n",
            "Back propagation attack\t 2-Avg MSE:\t3.213398\n",
            "Random guess attack\t 2-Avg MSE:\t0.234839\n",
            "Accuracy of the original model: tensor(0.0824)\n",
            "Total Time Per Data Point Prediction 0.0004885470650631532\n",
            "See /content/FLinferenceDefence/ESA/FLinferenceDefence/ESA/FLinferenceDefence/ESA/FLinferenceDefence/ESA/log/news_unknown_29_expnum_2_20230524062957.csv for more details.\n"
          ]
        }
      ]
    },
    {
      "cell_type": "code",
      "source": [
        "!python main-esa.py --DataFile news_cleaned.csv --LogFile news.csv --num_target_features 44 --EnablePREDVEL False --perturbation_level -4 --EnableDP True --DPEpsilon 0.1 --DPDelta 1e-5 --DPSensitivity 0.01"
      ],
      "metadata": {
        "colab": {
          "base_uri": "https://localhost:8080/"
        },
        "id": "3L6SKntBOFZB",
        "outputId": "5e968b54-c221-41f7-fe24-bf394645f83d"
      },
      "execution_count": null,
      "outputs": [
        {
          "output_type": "stream",
          "name": "stdout",
          "text": [
            "4.8394512\n",
            "4.32812349625\n",
            "4.8394512\n",
            "4.0812896\n",
            "3.8396410762500004\n",
            "4.0812896\n",
            "[[-6.3511143, 3.4839284, -2.7563498, -1.5116631, -0.5973612], [-25.316193, -4.519102, 3.646158, 1.0327103, -4.3337975], [-25.366964, -0.5158503, -0.74885315, -5.1572766, 3.500202]]\n",
            "------\n",
            "[[  3.2580903   -6.5769524   -0.3366742   -1.5813609   -2.4956628 ]\n",
            " [ 13.52010332  -7.27698768 -15.44224768 -12.82879998  -7.46229218]\n",
            " [ 14.05146718 -10.79964652 -10.56664367  -6.15822022 -14.81569882]]\n",
            "----------\n",
            "[[  2.90013867  -6.24082493  -0.35268929  -1.42798483  -2.40118386]\n",
            " [ 13.49040817  -5.69041223 -15.11289948 -13.04377598  -7.52683657]\n",
            " [ 13.73654668  -9.24428537 -10.85923292  -6.17588286 -14.49336903]]\n",
            "{'DataFile': 'news_cleaned.csv', 'LogFile': 'news.csv', 'n_attacker': 30, 'num_target_features': 44, 'num_exps': 2, 'train_percentage': 0.6, 'test_percentage': 0.2, 'pred_percentage': 0.2, 'enableConfRound': False, 'EnablePREDVEL': True, 'EnableNoising': False, 'EnableDP': True, 'DPEpsilon': 1.0, 'DPDelta': 1e-05, 'DPSensitivity': 0.001, 'roundPrecision': 1, 'StdDevNoising': 0.1, 'epoch_num': 60, 'epochsForClassifier': 60, 'meanLambda': 1.2, 'enableAttackerFeatures': True, 'enableMean': False, 'unknownVarLambda': 0.25, 'perturbation_level': -4.0, 'outputDim': 5, 'modelType': 'NN', 'max_depth': 5, 'min_samples_split': 3, 'min_samples_leaf': 5, 'min_impurity_decrease': 1e-05, 'criterion': 'gini'}\n",
            "dataset: /content/FLinferenceDefence/ESA/FLinferenceDefence/ESA/FLinferenceDefence/ESA/FLinferenceDefence/datasets/news_cleaned.csv\n",
            "number of target features: 44\n",
            "number of experimental trials: 2\n",
            "Begin trials\n",
            "-------------------------------------\n",
            "Attack trial 1 / 2\n",
            "Dataset column permutation is: \n",
            " tensor([13, 43, 18, 48,  1, 47,  8, 45, 56, 53, 44, 24, 40, 15, 16,  7, 50, 10,\n",
            "        20, 25, 29, 49, 17, 21, 35, 31, 27, 38, 14, 26, 57, 37, 46, 30, 51,  2,\n",
            "        32, 36, 52, 42,  4, 19, 54, 41,  5, 23, 28,  0, 55, 33,  9, 12,  3, 11,\n",
            "         6, 58, 22, 34, 39])\n",
            "/usr/local/lib/python3.10/dist-packages/torch/nn/modules/container.py:217: UserWarning: Implicit dimension choice for softmax has been deprecated. Change the call to include dim=X as an argument.\n",
            "  input = module(input)\n",
            "average attack mse: 1.391786\n",
            "average random mse: 0.239427\n",
            "-------------------------------------\n",
            "Attack trial 2 / 2\n",
            "Dataset column permutation is: \n",
            " tensor([51, 31, 37, 40, 45, 53,  7, 55, 27,  4, 57,  6, 10,  1, 33, 44, 19,  2,\n",
            "        22, 18,  8, 34,  9, 26, 38, 16, 46, 54, 12, 42, 36, 17, 21, 47,  0, 15,\n",
            "        32, 14, 48, 23, 58, 20,  5, 39, 24, 50, 25, 13, 41, 49, 56, 43, 28, 35,\n",
            "        11, 30, 52, 29,  3])\n",
            "average attack mse: 1.404222\n",
            "average random mse: 0.224805\n",
            "-------------------------------------\n",
            "Back propagation attack\t 2-Avg MSE:\t1.398004\n",
            "Random guess attack\t 2-Avg MSE:\t0.232116\n",
            "Accuracy of the original model: tensor(0.1206)\n",
            "Total Time Per Data Point Prediction 0.0005069889586821093\n",
            "See /content/FLinferenceDefence/ESA/FLinferenceDefence/ESA/FLinferenceDefence/ESA/FLinferenceDefence/ESA/log/news_unknown_44_expnum_2_20230524063110.csv for more details.\n"
          ]
        }
      ]
    },
    {
      "cell_type": "code",
      "source": [
        "!python main-esa.py --DataFile drive_cleaned.csv --LogFile drive.csv --num_target_features 12 --EnablePREDVEL False --perturbation_level -4 --EnableDP True --DPEpsilon 0.1 --DPDelta 1e-5 --DPSensitivity 0.01"
      ],
      "metadata": {
        "colab": {
          "base_uri": "https://localhost:8080/"
        },
        "id": "jwsC8wVYOHTd",
        "outputId": "9998a4b6-aaf6-4a83-c4f8-62e9182b6d7e"
      },
      "execution_count": null,
      "outputs": [
        {
          "output_type": "stream",
          "name": "stdout",
          "text": [
            "4.8394512\n",
            "4.56004280625\n",
            "4.8394512\n",
            "4.0812896\n",
            "4.442121932499999\n",
            "4.0812896\n",
            "[[-6.3511143, 3.4839284, -2.7563498, -1.5116631, -0.5973612], [-25.316193, -4.519102, 3.646158, 1.0327103, -4.3337975], [-25.366964, -0.5158503, -0.74885315, -5.1572766, 3.500202]]\n",
            "------\n",
            "[[  3.2580903   -6.5769524   -0.3366742   -1.5813609   -2.4956628 ]\n",
            " [ 13.52010332  -7.27698768 -15.44224768 -12.82879998  -7.46229218]\n",
            " [ 14.05146718 -10.79964652 -10.56664367  -6.15822022 -14.81569882]]\n",
            "----------\n",
            "[[  3.36815953  -6.90044966  -0.3290512   -1.19188327  -2.45832773]\n",
            " [ 12.87801367  -7.35225981 -15.87741695 -11.30071039  -7.19142984]\n",
            " [ 13.75402189 -11.10520636 -10.51764841  -4.52903244 -15.03446145]]\n",
            "{'DataFile': 'drive_cleaned.csv', 'LogFile': 'drive.csv', 'n_attacker': 30, 'num_target_features': 12, 'num_exps': 2, 'train_percentage': 0.6, 'test_percentage': 0.2, 'pred_percentage': 0.2, 'enableConfRound': False, 'EnablePREDVEL': True, 'EnableNoising': False, 'EnableDP': True, 'DPEpsilon': 1.0, 'DPDelta': 1e-05, 'DPSensitivity': 0.001, 'roundPrecision': 1, 'StdDevNoising': 0.1, 'epoch_num': 60, 'epochsForClassifier': 60, 'meanLambda': 1.2, 'enableAttackerFeatures': True, 'enableMean': False, 'unknownVarLambda': 0.25, 'perturbation_level': -4.0, 'outputDim': 5, 'modelType': 'NN', 'max_depth': 5, 'min_samples_split': 3, 'min_samples_leaf': 5, 'min_impurity_decrease': 1e-05, 'criterion': 'gini'}\n",
            "dataset: /content/FLinferenceDefence/ESA/FLinferenceDefence/ESA/FLinferenceDefence/ESA/FLinferenceDefence/datasets/drive_cleaned.csv\n",
            "number of target features: 12\n",
            "number of experimental trials: 2\n",
            "Begin trials\n",
            "-------------------------------------\n",
            "Attack trial 1 / 2\n",
            "Dataset column permutation is: \n",
            " tensor([16, 13, 17,  4, 21, 37, 46, 39,  1,  6, 38, 33, 25, 43, 47, 23, 15, 19,\n",
            "        42,  0,  7,  5,  8, 27, 18, 10, 12,  3, 14, 29, 31, 40, 41, 24, 36, 35,\n",
            "        11,  9,  2, 45, 26, 30, 22, 28, 32, 34, 20, 44])\n",
            "/usr/local/lib/python3.10/dist-packages/torch/nn/modules/container.py:217: UserWarning: Implicit dimension choice for softmax has been deprecated. Change the call to include dim=X as an argument.\n",
            "  input = module(input)\n",
            "average attack mse: 101.032295\n",
            "average random mse: 0.083033\n",
            "-------------------------------------\n",
            "Attack trial 2 / 2\n",
            "Dataset column permutation is: \n",
            " tensor([18, 27,  5, 47,  9, 34, 11, 39, 17, 26, 24, 19,  7,  4,  0, 13, 33, 14,\n",
            "        36, 32, 45, 41, 30,  8, 28, 40, 22, 20,  6,  3, 12,  1, 23, 46, 29, 15,\n",
            "         2, 35, 10, 21, 43, 25, 31, 44, 16, 37, 42, 38])\n",
            "average attack mse: 48.508888\n",
            "average random mse: 0.122329\n",
            "-------------------------------------\n",
            "Back propagation attack\t 2-Avg MSE:\t74.770592\n",
            "Random guess attack\t 2-Avg MSE:\t0.102681\n",
            "Accuracy of the original model: tensor(0.0865)\n",
            "Total Time Per Data Point Prediction 0.0006453074223872342\n",
            "See /content/FLinferenceDefence/ESA/FLinferenceDefence/ESA/FLinferenceDefence/ESA/FLinferenceDefence/ESA/log/drive_unknown_12_expnum_2_20230524063225.csv for more details.\n"
          ]
        }
      ]
    },
    {
      "cell_type": "code",
      "source": [
        "!python main-esa.py --DataFile drive_cleaned.csv --LogFile drive.csv --num_target_features 24 --EnablePREDVEL False --perturbation_level -4 --EnableDP True --DPEpsilon 0.1 --DPDelta 1e-5 --DPSensitivity 0.01"
      ],
      "metadata": {
        "colab": {
          "base_uri": "https://localhost:8080/"
        },
        "id": "4NE8dAgKOI9m",
        "outputId": "578c1cea-c356-4cec-a72c-ac780384d578"
      },
      "execution_count": null,
      "outputs": [
        {
          "output_type": "stream",
          "name": "stdout",
          "text": [
            "4.8394512\n",
            "4.991574288750001\n",
            "4.8394512\n",
            "4.0812896\n",
            "4.42706213875\n",
            "4.0812896\n",
            "[[-6.3511143, 3.4839284, -2.7563498, -1.5116631, -0.5973612], [-25.316193, -4.519102, 3.646158, 1.0327103, -4.3337975], [-25.366964, -0.5158503, -0.74885315, -5.1572766, 3.500202]]\n",
            "------\n",
            "[[  3.2580903   -6.5769524   -0.3366742   -1.5813609   -2.4956628 ]\n",
            " [ 13.52010332  -7.27698768 -15.44224768 -12.82879998  -7.46229218]\n",
            " [ 14.05146718 -10.79964652 -10.56664367  -6.15822022 -14.81569882]]\n",
            "----------\n",
            "[[  3.36815953  -6.5257803   -0.64127567  -1.62341475  -2.09871816]\n",
            " [ 12.87801367  -7.76864573 -15.53042869 -12.87439005  -5.88003012]\n",
            " [ 13.75402189 -10.75709939 -10.80773755  -6.6940699  -13.23026357]]\n",
            "{'DataFile': 'drive_cleaned.csv', 'LogFile': 'drive.csv', 'n_attacker': 30, 'num_target_features': 24, 'num_exps': 2, 'train_percentage': 0.6, 'test_percentage': 0.2, 'pred_percentage': 0.2, 'enableConfRound': False, 'EnablePREDVEL': True, 'EnableNoising': False, 'EnableDP': True, 'DPEpsilon': 1.0, 'DPDelta': 1e-05, 'DPSensitivity': 0.001, 'roundPrecision': 1, 'StdDevNoising': 0.1, 'epoch_num': 60, 'epochsForClassifier': 60, 'meanLambda': 1.2, 'enableAttackerFeatures': True, 'enableMean': False, 'unknownVarLambda': 0.25, 'perturbation_level': -4.0, 'outputDim': 5, 'modelType': 'NN', 'max_depth': 5, 'min_samples_split': 3, 'min_samples_leaf': 5, 'min_impurity_decrease': 1e-05, 'criterion': 'gini'}\n",
            "dataset: /content/FLinferenceDefence/ESA/FLinferenceDefence/ESA/FLinferenceDefence/ESA/FLinferenceDefence/datasets/drive_cleaned.csv\n",
            "number of target features: 24\n",
            "number of experimental trials: 2\n",
            "Begin trials\n",
            "-------------------------------------\n",
            "Attack trial 1 / 2\n",
            "Dataset column permutation is: \n",
            " tensor([16, 13, 17,  4, 21, 37, 46, 39,  1,  6, 38, 33, 25, 43, 47, 23, 15, 19,\n",
            "        42,  0,  7,  5,  8, 27, 18, 10, 12,  3, 14, 29, 31, 40, 41, 24, 36, 35,\n",
            "        11,  9,  2, 45, 26, 30, 22, 28, 32, 34, 20, 44])\n",
            "/usr/local/lib/python3.10/dist-packages/torch/nn/modules/container.py:217: UserWarning: Implicit dimension choice for softmax has been deprecated. Change the call to include dim=X as an argument.\n",
            "  input = module(input)\n",
            "average attack mse: 10.410860\n",
            "average random mse: 0.124539\n",
            "-------------------------------------\n",
            "Attack trial 2 / 2\n",
            "Dataset column permutation is: \n",
            " tensor([34, 24, 45,  7, 20, 26,  0, 27, 12, 31,  2, 17, 35, 25, 13, 37, 11,  4,\n",
            "        40, 39,  1, 46, 16, 32, 19, 18,  6, 14, 30, 38,  9, 29, 23, 10, 41, 47,\n",
            "        21, 15, 28, 22,  8, 43,  3,  5, 36, 33, 42, 44])\n",
            "average attack mse: 6.315546\n",
            "average random mse: 0.132717\n",
            "-------------------------------------\n",
            "Back propagation attack\t 2-Avg MSE:\t8.363203\n",
            "Random guess attack\t 2-Avg MSE:\t0.128628\n",
            "Accuracy of the original model: tensor(0.0565)\n",
            "Total Time Per Data Point Prediction 0.00066264223190528\n",
            "See /content/FLinferenceDefence/ESA/FLinferenceDefence/ESA/FLinferenceDefence/ESA/FLinferenceDefence/ESA/log/drive_unknown_24_expnum_2_20230524063415.csv for more details.\n"
          ]
        }
      ]
    },
    {
      "cell_type": "code",
      "source": [
        "!python main-esa.py --DataFile drive_cleaned.csv --LogFile drive.csv --num_target_features 36 --EnablePREDVEL False --perturbation_level -4 --EnableDP True --DPEpsilon 0.1 --DPDelta 1e-5 --DPSensitivity 0.01"
      ],
      "metadata": {
        "colab": {
          "base_uri": "https://localhost:8080/"
        },
        "id": "YPHlfi5fOLDZ",
        "outputId": "2ace0144-75fc-41d0-dba0-7460a17fed4a"
      },
      "execution_count": null,
      "outputs": [
        {
          "output_type": "stream",
          "name": "stdout",
          "text": [
            "4.8394512\n",
            "4.3944876412500005\n",
            "4.8394512\n",
            "4.0812896\n",
            "3.7824972075\n",
            "4.0812896\n",
            "[[-6.3511143, 3.4839284, -2.7563498, -1.5116631, -0.5973612], [-25.316193, -4.519102, 3.646158, 1.0327103, -4.3337975], [-25.366964, -0.5158503, -0.74885315, -5.1572766, 3.500202]]\n",
            "------\n",
            "[[  3.2580903   -6.5769524   -0.3366742   -1.5813609   -2.4956628 ]\n",
            " [ 13.52010332  -7.27698768 -15.44224768 -12.82879998  -7.46229218]\n",
            " [ 14.05146718 -10.79964652 -10.56664367  -6.15822022 -14.81569882]]\n",
            "----------\n",
            "[[  2.90013867  -6.24082493  -0.19076514  -1.49434897  -2.45832773]\n",
            " [ 13.49040817  -5.69041223 -15.71139614 -12.94751684  -7.19142984]\n",
            " [ 13.73654668  -9.24428537 -10.54055378  -5.79213791 -15.03446145]]\n",
            "{'DataFile': 'drive_cleaned.csv', 'LogFile': 'drive.csv', 'n_attacker': 30, 'num_target_features': 36, 'num_exps': 2, 'train_percentage': 0.6, 'test_percentage': 0.2, 'pred_percentage': 0.2, 'enableConfRound': False, 'EnablePREDVEL': True, 'EnableNoising': False, 'EnableDP': True, 'DPEpsilon': 1.0, 'DPDelta': 1e-05, 'DPSensitivity': 0.001, 'roundPrecision': 1, 'StdDevNoising': 0.1, 'epoch_num': 60, 'epochsForClassifier': 60, 'meanLambda': 1.2, 'enableAttackerFeatures': True, 'enableMean': False, 'unknownVarLambda': 0.25, 'perturbation_level': -4.0, 'outputDim': 5, 'modelType': 'NN', 'max_depth': 5, 'min_samples_split': 3, 'min_samples_leaf': 5, 'min_impurity_decrease': 1e-05, 'criterion': 'gini'}\n",
            "dataset: /content/FLinferenceDefence/ESA/FLinferenceDefence/ESA/FLinferenceDefence/ESA/FLinferenceDefence/datasets/drive_cleaned.csv\n",
            "number of target features: 36\n",
            "number of experimental trials: 2\n",
            "Begin trials\n",
            "-------------------------------------\n",
            "Attack trial 1 / 2\n",
            "Dataset column permutation is: \n",
            " tensor([16, 13, 17,  4, 21, 37, 46, 39,  1,  6, 38, 33, 25, 43, 47, 23, 15, 19,\n",
            "        42,  0,  7,  5,  8, 27, 18, 10, 12,  3, 14, 29, 31, 40, 41, 24, 36, 35,\n",
            "        11,  9,  2, 45, 26, 30, 22, 28, 32, 34, 20, 44])\n",
            "/usr/local/lib/python3.10/dist-packages/torch/nn/modules/container.py:217: UserWarning: Implicit dimension choice for softmax has been deprecated. Change the call to include dim=X as an argument.\n",
            "  input = module(input)\n",
            "average attack mse: 4.148529\n",
            "average random mse: 0.120199\n",
            "-------------------------------------\n",
            "Attack trial 2 / 2\n",
            "Dataset column permutation is: \n",
            " tensor([20, 21, 32,  5, 45, 46, 29,  8, 27, 37, 18, 42, 30,  7,  2,  1, 12, 33,\n",
            "        22, 13, 34,  3, 35, 36, 44, 24, 14,  9, 31, 43,  0, 16, 25, 47, 15,  6,\n",
            "        26, 17, 28, 19, 40, 23, 39, 10, 41,  4, 38, 11])\n",
            "average attack mse: 4.358970\n",
            "average random mse: 0.146336\n",
            "-------------------------------------\n",
            "Back propagation attack\t 2-Avg MSE:\t4.253749\n",
            "Random guess attack\t 2-Avg MSE:\t0.133268\n",
            "Accuracy of the original model: tensor(0.0898)\n",
            "Total Time Per Data Point Prediction 0.0006532108118448305\n",
            "See /content/FLinferenceDefence/ESA/FLinferenceDefence/ESA/FLinferenceDefence/ESA/FLinferenceDefence/ESA/log/drive_unknown_36_expnum_2_20230524063606.csv for more details.\n"
          ]
        }
      ]
    },
    {
      "cell_type": "code",
      "source": [],
      "metadata": {
        "id": "9dZMikKga-Fl"
      },
      "execution_count": null,
      "outputs": []
    }
  ]
}